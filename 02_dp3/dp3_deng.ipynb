{
 "cells": [
  {
   "cell_type": "code",
   "execution_count": 1,
   "metadata": {},
   "outputs": [],
   "source": [
    "import pandas as pd\n",
    "import matplotlib.pyplot as plt\n",
    "import seaborn as sns"
   ]
  },
  {
   "cell_type": "markdown",
   "metadata": {},
   "source": [
    "**Características**\n",
    "\n",
    "Además, el conjunto de datos está compuesto por 13 características adicionales que describen las condiciones de salud de cada uno de los pacientes. Estas características se describen a continuación:\n",
    "\n",
    "\n",
    "1. **age**: Edad del paciente\n",
    "  - Rango de edades de la muestra 27-77 años. En formato XX.X\n",
    "  Por ejemplo: 27.0\n",
    "2. **sex**: Sexo del paciente\n",
    "  - 1: Sexo masculino\n",
    "  - 0: Sexo femenino\n",
    "3. **cp**: Tipo de dolor de pecho\n",
    "  - 1: Angina típica\n",
    "  - 2: Angina atípica\n",
    "  - 3: Dolor no-anginoso\n",
    "  - 4: Asintomático\n",
    "4. **trestbps**: Presión arterial en reposo (en mm Hg al ingreso en el hospital)\n",
    "5. **chol**: Colesterol sérico en mg/dl\n",
    "6. **fbs**: Dolor provocado por el esfuerzo (1 = sí; 0 = no)\n",
    "7. **restecg**: Resultados electrocardiográficos en reposo\n",
    "  - 0: Normal\n",
    "  - 1: Presenta anormalidad de la onda ST-T\n",
    "  - 2: Presenta probable o definida hipertrofia ventricular izquierda\n",
    "8. **thalach**: Frecuencia cardíaca en reposo\n",
    "9. **exang**: Angina inducida por el ejercicio (1 = sí; 0 = no)\n",
    "10. **oldpeak**: Depresión del ST inducida por el ejercicio en relación con el reposo\n",
    "11. **slope**: La pendiente del segmento ST en ejercicio máximo\n",
    "  - 1: Pendiente ascendente\n",
    "  - 2: Plano\n",
    "  - 3: Pendiente descendente\n",
    "12. **ca**: Número de vasos mayores (0-3) coloreados por fluoroscopia\n",
    "13. **thal**:\n",
    "  - 3: Normal\n",
    "  - 6: Defecto fijo\n",
    "  - 7: Defecto reversible"
   ]
  },
  {
   "cell_type": "markdown",
   "metadata": {},
   "source": [
    "Importamos el dataset de entrenamiento."
   ]
  },
  {
   "cell_type": "code",
   "execution_count": 2,
   "metadata": {},
   "outputs": [
    {
     "data": {
      "text/html": [
       "<div>\n",
       "<style scoped>\n",
       "    .dataframe tbody tr th:only-of-type {\n",
       "        vertical-align: middle;\n",
       "    }\n",
       "\n",
       "    .dataframe tbody tr th {\n",
       "        vertical-align: top;\n",
       "    }\n",
       "\n",
       "    .dataframe thead th {\n",
       "        text-align: right;\n",
       "    }\n",
       "</style>\n",
       "<table border=\"1\" class=\"dataframe\">\n",
       "  <thead>\n",
       "    <tr style=\"text-align: right;\">\n",
       "      <th></th>\n",
       "      <th>age</th>\n",
       "      <th>sex</th>\n",
       "      <th>cp</th>\n",
       "      <th>trestbps</th>\n",
       "      <th>chol</th>\n",
       "      <th>fbs</th>\n",
       "      <th>restecg</th>\n",
       "      <th>thalach</th>\n",
       "      <th>exang</th>\n",
       "      <th>oldpeak</th>\n",
       "      <th>slope</th>\n",
       "      <th>ca</th>\n",
       "      <th>thal</th>\n",
       "      <th>label</th>\n",
       "    </tr>\n",
       "  </thead>\n",
       "  <tbody>\n",
       "    <tr>\n",
       "      <th>0</th>\n",
       "      <td>51.0</td>\n",
       "      <td>1.0</td>\n",
       "      <td>1.0</td>\n",
       "      <td>125.0</td>\n",
       "      <td>213.0</td>\n",
       "      <td>0.0</td>\n",
       "      <td>2.0</td>\n",
       "      <td>125.0</td>\n",
       "      <td>1.0</td>\n",
       "      <td>1.4</td>\n",
       "      <td>1.0</td>\n",
       "      <td>1.0</td>\n",
       "      <td>3.0</td>\n",
       "      <td>0</td>\n",
       "    </tr>\n",
       "    <tr>\n",
       "      <th>1</th>\n",
       "      <td>54.0</td>\n",
       "      <td>1.0</td>\n",
       "      <td>3.0</td>\n",
       "      <td>120.0</td>\n",
       "      <td>237.0</td>\n",
       "      <td>0.0</td>\n",
       "      <td>0.0</td>\n",
       "      <td>150.0</td>\n",
       "      <td>1.0</td>\n",
       "      <td>1.5</td>\n",
       "      <td>-9.0</td>\n",
       "      <td>-9.0</td>\n",
       "      <td>7.0</td>\n",
       "      <td>2</td>\n",
       "    </tr>\n",
       "    <tr>\n",
       "      <th>2</th>\n",
       "      <td>63.0</td>\n",
       "      <td>1.0</td>\n",
       "      <td>4.0</td>\n",
       "      <td>140</td>\n",
       "      <td>0</td>\n",
       "      <td>?</td>\n",
       "      <td>2.0</td>\n",
       "      <td>149</td>\n",
       "      <td>0</td>\n",
       "      <td>2</td>\n",
       "      <td>1</td>\n",
       "      <td>?</td>\n",
       "      <td>?</td>\n",
       "      <td>2</td>\n",
       "    </tr>\n",
       "    <tr>\n",
       "      <th>3</th>\n",
       "      <td>52.0</td>\n",
       "      <td>0.0</td>\n",
       "      <td>2.0</td>\n",
       "      <td>140.0</td>\n",
       "      <td>-9.0</td>\n",
       "      <td>0.0</td>\n",
       "      <td>0.0</td>\n",
       "      <td>140.0</td>\n",
       "      <td>0.0</td>\n",
       "      <td>0.0</td>\n",
       "      <td>-9.0</td>\n",
       "      <td>-9.0</td>\n",
       "      <td>-9.0</td>\n",
       "      <td>0</td>\n",
       "    </tr>\n",
       "    <tr>\n",
       "      <th>4</th>\n",
       "      <td>55.0</td>\n",
       "      <td>1.0</td>\n",
       "      <td>4.0</td>\n",
       "      <td>140.0</td>\n",
       "      <td>217.0</td>\n",
       "      <td>0.0</td>\n",
       "      <td>0.0</td>\n",
       "      <td>111.0</td>\n",
       "      <td>1.0</td>\n",
       "      <td>5.6</td>\n",
       "      <td>3.0</td>\n",
       "      <td>0.0</td>\n",
       "      <td>7.0</td>\n",
       "      <td>3</td>\n",
       "    </tr>\n",
       "  </tbody>\n",
       "</table>\n",
       "</div>"
      ],
      "text/plain": [
       "    age  sex   cp trestbps   chol  fbs  restecg thalach exang oldpeak slope  \\\n",
       "0  51.0  1.0  1.0    125.0  213.0  0.0      2.0   125.0   1.0     1.4   1.0   \n",
       "1  54.0  1.0  3.0    120.0  237.0  0.0      0.0   150.0   1.0     1.5  -9.0   \n",
       "2  63.0  1.0  4.0      140      0    ?      2.0     149     0       2     1   \n",
       "3  52.0  0.0  2.0    140.0   -9.0  0.0      0.0   140.0   0.0     0.0  -9.0   \n",
       "4  55.0  1.0  4.0    140.0  217.0  0.0      0.0   111.0   1.0     5.6   3.0   \n",
       "\n",
       "     ca  thal  label  \n",
       "0   1.0   3.0      0  \n",
       "1  -9.0   7.0      2  \n",
       "2     ?     ?      2  \n",
       "3  -9.0  -9.0      0  \n",
       "4   0.0   7.0      3  "
      ]
     },
     "execution_count": 2,
     "metadata": {},
     "output_type": "execute_result"
    }
   ],
   "source": [
    "data_train = pd.read_csv('/Users/emart/Documents/GitHub/mdata_dp3/data/train.csv')\n",
    "data_train.head()"
   ]
  },
  {
   "cell_type": "markdown",
   "metadata": {},
   "source": [
    "Importamos el dataset de prueba."
   ]
  },
  {
   "cell_type": "code",
   "execution_count": 3,
   "metadata": {},
   "outputs": [
    {
     "data": {
      "text/html": [
       "<div>\n",
       "<style scoped>\n",
       "    .dataframe tbody tr th:only-of-type {\n",
       "        vertical-align: middle;\n",
       "    }\n",
       "\n",
       "    .dataframe tbody tr th {\n",
       "        vertical-align: top;\n",
       "    }\n",
       "\n",
       "    .dataframe thead th {\n",
       "        text-align: right;\n",
       "    }\n",
       "</style>\n",
       "<table border=\"1\" class=\"dataframe\">\n",
       "  <thead>\n",
       "    <tr style=\"text-align: right;\">\n",
       "      <th></th>\n",
       "      <th>age</th>\n",
       "      <th>sex</th>\n",
       "      <th>cp</th>\n",
       "      <th>trestbps</th>\n",
       "      <th>chol</th>\n",
       "      <th>fbs</th>\n",
       "      <th>restecg</th>\n",
       "      <th>thalach</th>\n",
       "      <th>exang</th>\n",
       "      <th>oldpeak</th>\n",
       "      <th>slope</th>\n",
       "      <th>ca</th>\n",
       "      <th>thal</th>\n",
       "    </tr>\n",
       "  </thead>\n",
       "  <tbody>\n",
       "    <tr>\n",
       "      <th>0</th>\n",
       "      <td>57.0</td>\n",
       "      <td>1.0</td>\n",
       "      <td>4.0</td>\n",
       "      <td>156</td>\n",
       "      <td>173</td>\n",
       "      <td>0</td>\n",
       "      <td>2</td>\n",
       "      <td>119</td>\n",
       "      <td>1</td>\n",
       "      <td>3</td>\n",
       "      <td>3</td>\n",
       "      <td>?</td>\n",
       "      <td>?</td>\n",
       "    </tr>\n",
       "    <tr>\n",
       "      <th>1</th>\n",
       "      <td>52.0</td>\n",
       "      <td>1.0</td>\n",
       "      <td>2.0</td>\n",
       "      <td>160.0</td>\n",
       "      <td>196.0</td>\n",
       "      <td>0.0</td>\n",
       "      <td>0.0</td>\n",
       "      <td>165.0</td>\n",
       "      <td>0.0</td>\n",
       "      <td>0.0</td>\n",
       "      <td>-9.0</td>\n",
       "      <td>-9.0</td>\n",
       "      <td>-9.0</td>\n",
       "    </tr>\n",
       "    <tr>\n",
       "      <th>2</th>\n",
       "      <td>48.0</td>\n",
       "      <td>1.0</td>\n",
       "      <td>2.0</td>\n",
       "      <td>100.0</td>\n",
       "      <td>-9.0</td>\n",
       "      <td>0.0</td>\n",
       "      <td>0.0</td>\n",
       "      <td>100.0</td>\n",
       "      <td>0.0</td>\n",
       "      <td>0.0</td>\n",
       "      <td>-9.0</td>\n",
       "      <td>-9.0</td>\n",
       "      <td>-9.0</td>\n",
       "    </tr>\n",
       "    <tr>\n",
       "      <th>3</th>\n",
       "      <td>62.0</td>\n",
       "      <td>1.0</td>\n",
       "      <td>4.0</td>\n",
       "      <td>115</td>\n",
       "      <td>0</td>\n",
       "      <td>?</td>\n",
       "      <td>0</td>\n",
       "      <td>128</td>\n",
       "      <td>1</td>\n",
       "      <td>2.5</td>\n",
       "      <td>3</td>\n",
       "      <td>?</td>\n",
       "      <td>?</td>\n",
       "    </tr>\n",
       "    <tr>\n",
       "      <th>4</th>\n",
       "      <td>51.0</td>\n",
       "      <td>1.0</td>\n",
       "      <td>3.0</td>\n",
       "      <td>110.0</td>\n",
       "      <td>175.0</td>\n",
       "      <td>0.0</td>\n",
       "      <td>0.0</td>\n",
       "      <td>123.0</td>\n",
       "      <td>0.0</td>\n",
       "      <td>0.6</td>\n",
       "      <td>1.0</td>\n",
       "      <td>0.0</td>\n",
       "      <td>3.0</td>\n",
       "    </tr>\n",
       "  </tbody>\n",
       "</table>\n",
       "</div>"
      ],
      "text/plain": [
       "    age  sex   cp trestbps   chol  fbs restecg thalach exang oldpeak slope  \\\n",
       "0  57.0  1.0  4.0      156    173    0       2     119     1       3     3   \n",
       "1  52.0  1.0  2.0    160.0  196.0  0.0     0.0   165.0   0.0     0.0  -9.0   \n",
       "2  48.0  1.0  2.0    100.0   -9.0  0.0     0.0   100.0   0.0     0.0  -9.0   \n",
       "3  62.0  1.0  4.0      115      0    ?       0     128     1     2.5     3   \n",
       "4  51.0  1.0  3.0    110.0  175.0  0.0     0.0   123.0   0.0     0.6   1.0   \n",
       "\n",
       "     ca  thal  \n",
       "0     ?     ?  \n",
       "1  -9.0  -9.0  \n",
       "2  -9.0  -9.0  \n",
       "3     ?     ?  \n",
       "4   0.0   3.0  "
      ]
     },
     "execution_count": 3,
     "metadata": {},
     "output_type": "execute_result"
    }
   ],
   "source": [
    "data_test = pd.read_csv('/Users/emart/Documents/GitHub/mdata_dp3/data/test.csv')\n",
    "data_test.head()"
   ]
  },
  {
   "cell_type": "markdown",
   "metadata": {},
   "source": [
    "Transformamos los valores desconocidos a NaN. "
   ]
  },
  {
   "cell_type": "code",
   "execution_count": 4,
   "metadata": {},
   "outputs": [
    {
     "name": "stdout",
     "output_type": "stream",
     "text": [
      "<class 'pandas.core.frame.DataFrame'>\n",
      "RangeIndex: 732 entries, 0 to 731\n",
      "Data columns (total 14 columns):\n",
      " #   Column    Non-Null Count  Dtype  \n",
      "---  ------    --------------  -----  \n",
      " 0   age       732 non-null    float64\n",
      " 1   sex       732 non-null    float64\n",
      " 2   cp        732 non-null    float64\n",
      " 3   trestbps  685 non-null    float64\n",
      " 4   chol      727 non-null    float64\n",
      " 5   fbs       674 non-null    float64\n",
      " 6   restecg   732 non-null    float64\n",
      " 7   thalach   688 non-null    float64\n",
      " 8   exang     688 non-null    float64\n",
      " 9   oldpeak   683 non-null    float64\n",
      " 10  slope     637 non-null    float64\n",
      " 11  ca        483 non-null    float64\n",
      " 12  thal      563 non-null    float64\n",
      " 13  label     732 non-null    float64\n",
      "dtypes: float64(14)\n",
      "memory usage: 80.2 KB\n"
     ]
    }
   ],
   "source": [
    "columns_train = data_train.columns\n",
    "for column in columns_train:\n",
    "    \"\"\" Si el valor de la columna es '?', se reemplaza por None. Después, se convierte el tipo de dato a float. \"\"\"\n",
    "    data_train[column] = data_train[column].replace('?', None)\n",
    "    data_train[column] = data_train[column].astype(float)\n",
    "\n",
    "data_train.info()"
   ]
  },
  {
   "cell_type": "code",
   "execution_count": 5,
   "metadata": {},
   "outputs": [
    {
     "name": "stdout",
     "output_type": "stream",
     "text": [
      "<class 'pandas.core.frame.DataFrame'>\n",
      "RangeIndex: 184 entries, 0 to 183\n",
      "Data columns (total 13 columns):\n",
      " #   Column    Non-Null Count  Dtype  \n",
      "---  ------    --------------  -----  \n",
      " 0   age       184 non-null    float64\n",
      " 1   sex       184 non-null    float64\n",
      " 2   cp        184 non-null    float64\n",
      " 3   trestbps  173 non-null    float64\n",
      " 4   chol      182 non-null    float64\n",
      " 5   fbs       161 non-null    float64\n",
      " 6   restecg   183 non-null    float64\n",
      " 7   thalach   174 non-null    float64\n",
      " 8   exang     174 non-null    float64\n",
      " 9   oldpeak   171 non-null    float64\n",
      " 10  slope     160 non-null    float64\n",
      " 11  ca        115 non-null    float64\n",
      " 12  thal      135 non-null    float64\n",
      "dtypes: float64(13)\n",
      "memory usage: 18.8 KB\n"
     ]
    }
   ],
   "source": [
    "columns_test = data_test.columns\n",
    "for column in columns_test:\n",
    "    \"\"\" Si el valor de la columna es '?', se reemplaza por None. Después, se convierte el tipo de dato a float. \"\"\"\n",
    "    data_test[column] = data_test[column].replace('?', None)\n",
    "    data_test[column] = data_test[column].astype(float)\n",
    "\n",
    "data_test.info()"
   ]
  },
  {
   "cell_type": "markdown",
   "metadata": {},
   "source": [
    "#### TRATAMIENTO DE LAS VARIABLES."
   ]
  },
  {
   "cell_type": "markdown",
   "metadata": {},
   "source": [
    "A continuación, en función de la explicación obtenida del enunciado, vamos a definir que variables son continuas y cuáles son categóricas:\n",
    "- **Continuas**: age, trestbps, chol, thalach, oldpeak.\n",
    "- **Categóricas**: sex, cp, fbs, restecg, exang, slope, ca, thal\n",
    "- **Resultado**: label\n",
    "\n",
    "Por lo tanto, observamos que no todas las variables cumplen con su naturaleza de dato. Procedemos entonces a estipular el tipo en cada una de ellas."
   ]
  },
  {
   "cell_type": "markdown",
   "metadata": {},
   "source": [
    "La edad debe estar comprendida entre 27 y 77 años. No podemos tener números decimales."
   ]
  },
  {
   "cell_type": "code",
   "execution_count": 6,
   "metadata": {},
   "outputs": [
    {
     "name": "stdout",
     "output_type": "stream",
     "text": [
      "<class 'pandas.core.series.Series'>\n",
      "RangeIndex: 732 entries, 0 to 731\n",
      "Series name: age\n",
      "Non-Null Count  Dtype\n",
      "--------------  -----\n",
      "732 non-null    int64\n",
      "dtypes: int64(1)\n",
      "memory usage: 5.8 KB\n"
     ]
    }
   ],
   "source": [
    "# AGE\n",
    "# ---------------------\n",
    "# data_train['age'].describe()\n",
    "# data_test['age'].describe()\n",
    "# ---------------------\n",
    "\n",
    "data_train['age'] = data_train['age'].astype(int)\n",
    "data_test['age'] = data_test['age'].astype(int)\n",
    "\n",
    "data_train['age'].info()"
   ]
  },
  {
   "cell_type": "markdown",
   "metadata": {},
   "source": [
    "El sexo debe ser 0 (mujer) o 1 (hombre). "
   ]
  },
  {
   "cell_type": "code",
   "execution_count": 7,
   "metadata": {},
   "outputs": [
    {
     "name": "stdout",
     "output_type": "stream",
     "text": [
      "<class 'pandas.core.series.Series'>\n",
      "RangeIndex: 732 entries, 0 to 731\n",
      "Series name: sex\n",
      "Non-Null Count  Dtype   \n",
      "--------------  -----   \n",
      "732 non-null    category\n",
      "dtypes: category(1)\n",
      "memory usage: 988.0 bytes\n"
     ]
    }
   ],
   "source": [
    "# SEX\n",
    "# ---------------------\n",
    "# data_train['sex'].unique()\n",
    "# data_test['sex'].unique()\n",
    "# ---------------------\n",
    "\n",
    "data_train['sex'] = data_train['sex'].astype('category')\n",
    "data_test['sex'] = data_test['sex'].astype('category')\n",
    "\n",
    "data_train['sex'].info()"
   ]
  },
  {
   "cell_type": "markdown",
   "metadata": {},
   "source": [
    "La variable CP comprende valores categóricos: 1, 2, 3, 4."
   ]
  },
  {
   "cell_type": "code",
   "execution_count": 8,
   "metadata": {},
   "outputs": [
    {
     "name": "stdout",
     "output_type": "stream",
     "text": [
      "<class 'pandas.core.series.Series'>\n",
      "RangeIndex: 732 entries, 0 to 731\n",
      "Series name: cp\n",
      "Non-Null Count  Dtype   \n",
      "--------------  -----   \n",
      "732 non-null    category\n",
      "dtypes: category(1)\n",
      "memory usage: 1.0 KB\n"
     ]
    }
   ],
   "source": [
    "# CP \n",
    "# ---------------------\n",
    "# data_train['cp'].unique()\n",
    "# data_test['cp'].unique()\n",
    "# ---------------------\n",
    "\n",
    "data_train['cp'] = data_train['cp'].astype('category')\n",
    "data_test['cp'] = data_test['cp'].astype('category')\n",
    "\n",
    "data_train['cp'].info()"
   ]
  },
  {
   "cell_type": "markdown",
   "metadata": {},
   "source": [
    "La presión arterial 'trestbps' es un valor continuo. Se entiendo que debe estar en un rango positivo. No entramos en detalle de si a x valor es posible o se considera nulo."
   ]
  },
  {
   "cell_type": "code",
   "execution_count": 9,
   "metadata": {},
   "outputs": [
    {
     "data": {
      "text/plain": [
       "count    172.00000\n",
       "mean     132.80814\n",
       "std       18.51547\n",
       "min       80.00000\n",
       "25%      120.00000\n",
       "50%      130.00000\n",
       "75%      144.00000\n",
       "max      200.00000\n",
       "Name: trestbps, dtype: float64"
      ]
     },
     "execution_count": 9,
     "metadata": {},
     "output_type": "execute_result"
    }
   ],
   "source": [
    "# TRESTBPS\n",
    "# ---------------------\n",
    "# data_train['trestbps'].describe()\n",
    "# data_test['trestbps'].describe() - Contiene valores negativos.\n",
    "# ---------------------\n",
    "\n",
    "\"\"\" Se han detectado valores negativos para el dataset de prueba. \"\"\"\n",
    "data_test['trestbps'] = data_test['trestbps'].apply(lambda x: x if x > 0 else None)\n",
    "data_train['trestbps'] = data_train['trestbps'].apply(lambda x: x if x > 0 else None)\n",
    "\n",
    "data_test['trestbps'].describe()"
   ]
  },
  {
   "cell_type": "code",
   "execution_count": 10,
   "metadata": {},
   "outputs": [
    {
     "name": "stdout",
     "output_type": "stream",
     "text": [
      "<class 'pandas.core.series.Series'>\n",
      "RangeIndex: 732 entries, 0 to 731\n",
      "Series name: trestbps\n",
      "Non-Null Count  Dtype  \n",
      "--------------  -----  \n",
      "684 non-null    float64\n",
      "dtypes: float64(1)\n",
      "memory usage: 5.8 KB\n"
     ]
    }
   ],
   "source": [
    "data_train['trestbps'].info()"
   ]
  },
  {
   "cell_type": "markdown",
   "metadata": {},
   "source": [
    "El colesterol no admite valores negativos. No entramos en detalle de si a x valor es posible o se considera nulo."
   ]
  },
  {
   "cell_type": "code",
   "execution_count": 11,
   "metadata": {},
   "outputs": [
    {
     "name": "stdout",
     "output_type": "stream",
     "text": [
      "Train:\n",
      "---------------------\n",
      "count    576.000000\n",
      "mean     246.821181\n",
      "std       60.057170\n",
      "min       85.000000\n",
      "25%      208.750000\n",
      "50%      240.000000\n",
      "75%      279.250000\n",
      "max      603.000000\n",
      "Name: chol, dtype: float64\n",
      "\n",
      "Test:\n",
      "---------------------\n",
      "count    139.000000\n",
      "mean     246.582734\n",
      "std       52.469853\n",
      "min      149.000000\n",
      "25%      212.000000\n",
      "50%      238.000000\n",
      "75%      274.000000\n",
      "max      407.000000\n",
      "Name: chol, dtype: float64\n"
     ]
    }
   ],
   "source": [
    "# CHOL\n",
    "# ---------------------\n",
    "# data_train['chol'].describe() - Contiene valores negativos.\n",
    "# data_test['chol'].describe() - Contiene valores negativos.\n",
    "# ---------------------\n",
    "\n",
    "\"\"\" Se han detectado valores negativos para el dataset de prueba. \"\"\"\n",
    "data_train['chol'] = data_train['chol'].apply(lambda x: x if x > 0 else None)\n",
    "data_test['chol'] = data_test['chol'].apply(lambda x: x if x > 0 else None)\n",
    "\n",
    "print(\"Train:\")\n",
    "print(\"---------------------\")\n",
    "print(data_train['chol'].describe())\n",
    "print(\"\\nTest:\")\n",
    "print(\"---------------------\")\n",
    "print(data_test['chol'].describe())"
   ]
  },
  {
   "cell_type": "markdown",
   "metadata": {},
   "source": [
    "La variable 'fbs' es categórica y admite únicamente 0 y 1."
   ]
  },
  {
   "cell_type": "code",
   "execution_count": 12,
   "metadata": {},
   "outputs": [
    {
     "data": {
      "text/plain": [
       "array([ 0., nan,  1.])"
      ]
     },
     "execution_count": 12,
     "metadata": {},
     "output_type": "execute_result"
    }
   ],
   "source": [
    "# FBS\n",
    "# ---------------------\n",
    "# data_train['fbs'].unique() - Contiene valores distintos a 0 o 1.\n",
    "# data_test['fbs'].unique()\n",
    "# ---------------------\n",
    "\n",
    "\"\"\" Se han detectado valores distintos a 0 o 1 para el dataset de prueba. \"\"\"\n",
    "data_train['fbs'] = data_train['fbs'].apply(lambda x: x if x == 0 or x == 1 else None)\n",
    "data_test['fbs'] = data_test['fbs'].apply(lambda x: x if x == 0 or x == 1 else None)\n",
    "\n",
    "data_train['fbs'].unique()"
   ]
  },
  {
   "cell_type": "code",
   "execution_count": 13,
   "metadata": {},
   "outputs": [
    {
     "name": "stdout",
     "output_type": "stream",
     "text": [
      "<class 'pandas.core.series.Series'>\n",
      "RangeIndex: 732 entries, 0 to 731\n",
      "Series name: fbs\n",
      "Non-Null Count  Dtype  \n",
      "--------------  -----  \n",
      "666 non-null    float64\n",
      "dtypes: float64(1)\n",
      "memory usage: 5.8 KB\n"
     ]
    }
   ],
   "source": [
    "data_train['fbs'].info()"
   ]
  },
  {
   "cell_type": "markdown",
   "metadata": {},
   "source": [
    "La variable 'restecg' solo admite valores iguales a 0, 1 o 2."
   ]
  },
  {
   "cell_type": "code",
   "execution_count": 14,
   "metadata": {},
   "outputs": [
    {
     "data": {
      "text/plain": [
       "array([ 2.,  0.,  1., nan])"
      ]
     },
     "execution_count": 14,
     "metadata": {},
     "output_type": "execute_result"
    }
   ],
   "source": [
    "# RESTECG\n",
    "# ---------------------\n",
    "# data_train['restecg'].unique()\n",
    "# data_test['restecg'].unique() - Contiene valores distintos a 0, 1 o 2.\n",
    "# ---------------------\n",
    "\n",
    "\"\"\" Se han detectado valores distintos a 0, 1 o 2 para el dataset de prueba. \"\"\"\n",
    "data_test['restecg'] = data_test['restecg'].apply(lambda x: x if x == 0 or x == 1 or x== 2 else None)\n",
    "data_train['restecg'] = data_train['restecg'].apply(lambda x: x if x == 0 or x == 1 or x== 2 else None)\n",
    "\n",
    "data_test['restecg'].unique()"
   ]
  },
  {
   "cell_type": "code",
   "execution_count": 15,
   "metadata": {},
   "outputs": [
    {
     "name": "stdout",
     "output_type": "stream",
     "text": [
      "<class 'pandas.core.series.Series'>\n",
      "RangeIndex: 184 entries, 0 to 183\n",
      "Series name: restecg\n",
      "Non-Null Count  Dtype  \n",
      "--------------  -----  \n",
      "182 non-null    float64\n",
      "dtypes: float64(1)\n",
      "memory usage: 1.6 KB\n"
     ]
    }
   ],
   "source": [
    "data_test['restecg'].info()"
   ]
  },
  {
   "cell_type": "markdown",
   "metadata": {},
   "source": [
    "La variable 'thalach' es la frecuencia cardiaca en reposo, por lo que será una variable continua. No podemos tener valores negativos. No entramos en detalle de si a x valor es posible o se considera nulo."
   ]
  },
  {
   "cell_type": "code",
   "execution_count": 16,
   "metadata": {},
   "outputs": [
    {
     "name": "stdout",
     "output_type": "stream",
     "text": [
      "Train:\n",
      "---------------------\n",
      "count    688.000000\n",
      "mean     138.132267\n",
      "std       25.963443\n",
      "min       60.000000\n",
      "25%      120.000000\n",
      "50%      140.000000\n",
      "75%      158.250000\n",
      "max      202.000000\n",
      "Name: thalach, dtype: float64\n",
      "\n",
      "Test:\n",
      "---------------------\n",
      "count    173.000000\n",
      "mean     135.150289\n",
      "std       25.780163\n",
      "min       67.000000\n",
      "25%      118.000000\n",
      "50%      137.000000\n",
      "75%      154.000000\n",
      "max      188.000000\n",
      "Name: thalach, dtype: float64\n"
     ]
    }
   ],
   "source": [
    "# THALACH\n",
    "# ---------------------\n",
    "# data_train['thalach'].describe() - Contiene valores negativos.\n",
    "# data_test['thalach'].describe() - Contiene valores negativos.\n",
    "# ---------------------\n",
    "\n",
    "\"\"\" Se han detectado valores negativos para el dataset de prueba. \"\"\"\n",
    "data_train['thalach'] = data_train['thalach'].apply(lambda x: x if x > 0 else None)\n",
    "data_test['thalach'] = data_test['thalach'].apply(lambda x: x if x > 0 else None)\n",
    "\n",
    "print(\"Train:\")\n",
    "print(\"---------------------\")\n",
    "print(data_train['thalach'].describe())\n",
    "print(\"\\nTest:\")\n",
    "print(\"---------------------\")\n",
    "print(data_test['thalach'].describe())"
   ]
  },
  {
   "cell_type": "markdown",
   "metadata": {},
   "source": [
    "La variable 'exang' es categórica y admite únicamente valores iguales a 0 o 1."
   ]
  },
  {
   "cell_type": "code",
   "execution_count": 17,
   "metadata": {},
   "outputs": [
    {
     "data": {
      "text/plain": [
       "array([ 1.,  0., nan])"
      ]
     },
     "execution_count": 17,
     "metadata": {},
     "output_type": "execute_result"
    }
   ],
   "source": [
    "# EXANG\n",
    "# ---------------------\n",
    "# data_train['exang'].unique()\n",
    "# data_test['exang'].unique() - Contiene valores distintos a 0 o 1.\n",
    "# ---------------------\n",
    "\n",
    "\"\"\" Se han detectado valores distintos a 0, 1 o 2 para el dataset de prueba. \"\"\"\n",
    "data_test['exang'] = data_test['exang'].apply(lambda x: x if x == 0 or x == 1 else None)\n",
    "data_train['exang'] = data_train['exang'].apply(lambda x: x if x == 0 or x == 1 else None)\n",
    "\n",
    "data_test['exang'].unique()"
   ]
  },
  {
   "cell_type": "code",
   "execution_count": 18,
   "metadata": {},
   "outputs": [
    {
     "name": "stdout",
     "output_type": "stream",
     "text": [
      "<class 'pandas.core.series.Series'>\n",
      "RangeIndex: 184 entries, 0 to 183\n",
      "Series name: exang\n",
      "Non-Null Count  Dtype  \n",
      "--------------  -----  \n",
      "173 non-null    float64\n",
      "dtypes: float64(1)\n",
      "memory usage: 1.6 KB\n"
     ]
    }
   ],
   "source": [
    "data_test['exang'].info()"
   ]
  },
  {
   "cell_type": "markdown",
   "metadata": {},
   "source": [
    "La variable 'oldpeak' es continua. Si que puede tener valores negativos. "
   ]
  },
  {
   "cell_type": "code",
   "execution_count": 19,
   "metadata": {},
   "outputs": [
    {
     "name": "stdout",
     "output_type": "stream",
     "text": [
      "Train:\n",
      "---------------------\n",
      "count    683.000000\n",
      "mean       0.881259\n",
      "std        1.112960\n",
      "min       -2.600000\n",
      "25%        0.000000\n",
      "50%        0.500000\n",
      "75%        1.550000\n",
      "max        6.200000\n",
      "Name: oldpeak, dtype: float64\n",
      "\n",
      "Test:\n",
      "---------------------\n",
      "count    171.000000\n",
      "mean       0.854386\n",
      "std        0.994941\n",
      "min       -0.700000\n",
      "25%        0.000000\n",
      "50%        0.600000\n",
      "75%        1.500000\n",
      "max        4.000000\n",
      "Name: oldpeak, dtype: float64\n"
     ]
    }
   ],
   "source": [
    "print(\"Train:\")\n",
    "print(\"---------------------\")\n",
    "print(data_train['oldpeak'].describe())\n",
    "print(\"\\nTest:\")\n",
    "print(\"---------------------\")\n",
    "print(data_test['oldpeak'].describe())"
   ]
  },
  {
   "cell_type": "markdown",
   "metadata": {},
   "source": [
    "La variable 'slope' es categórica y solo admite valores iguales a 1, 2 o 3."
   ]
  },
  {
   "cell_type": "code",
   "execution_count": 20,
   "metadata": {},
   "outputs": [
    {
     "data": {
      "text/plain": [
       "array([ 1., nan,  3.,  2.])"
      ]
     },
     "execution_count": 20,
     "metadata": {},
     "output_type": "execute_result"
    }
   ],
   "source": [
    "# SLOPE\n",
    "# ---------------------\n",
    "# data_train['slope'].unique() - Contiene valores distintos a 1, 2 o 3.\n",
    "# data_test['slope'].unique() - Contiene valores distintos a 1, 2 o 3.\n",
    "# ---------------------\n",
    "\n",
    "\"\"\" Se han detectado valores distintos a 0, 1 o 2 para el dataset de prueba. \"\"\"\n",
    "data_test['slope'] = data_test['slope'].apply(lambda x: x if x == 2 or x == 1 or x == 3 else None)\n",
    "data_train['slope'] = data_train['slope'].apply(lambda x: x if x == 2 or x == 1 or x == 3 else None)\n",
    "\n",
    "data_train['slope'].unique()"
   ]
  },
  {
   "cell_type": "code",
   "execution_count": 21,
   "metadata": {},
   "outputs": [
    {
     "data": {
      "text/plain": [
       "count    485.000000\n",
       "mean       1.777320\n",
       "std        0.616493\n",
       "min        1.000000\n",
       "25%        1.000000\n",
       "50%        2.000000\n",
       "75%        2.000000\n",
       "max        3.000000\n",
       "Name: slope, dtype: float64"
      ]
     },
     "execution_count": 21,
     "metadata": {},
     "output_type": "execute_result"
    }
   ],
   "source": [
    "data_train['slope'].describe()"
   ]
  },
  {
   "cell_type": "markdown",
   "metadata": {},
   "source": [
    "La variable 'ca' es categórica y admite solo valores iguales a 0, 1, 2 o 3."
   ]
  },
  {
   "cell_type": "code",
   "execution_count": 22,
   "metadata": {},
   "outputs": [
    {
     "data": {
      "text/plain": [
       "array([ 1., nan,  0.,  2.,  3.])"
      ]
     },
     "execution_count": 22,
     "metadata": {},
     "output_type": "execute_result"
    }
   ],
   "source": [
    "# CA\n",
    "# ---------------------\n",
    "# data_train['ca'].unique() - Contiene valores distintos a 0, 1, 2 o 3.\n",
    "# data_test['ca'].unique() - Contiene valores distintos a 0, 1, 2 o 3.\n",
    "# ---------------------\n",
    "\n",
    "\"\"\" Se han detectado valores distintos a 0, 1 o 2 para el dataset de prueba. \"\"\"\n",
    "data_test['ca'] = data_test['ca'].apply(lambda x: x if x == 2 or x == 1 or x == 3 or x == 0 else None)\n",
    "data_train['ca'] = data_train['ca'].apply(lambda x: x if x == 2 or x == 1 or x == 3 or x == 0 else None)\n",
    "\n",
    "data_train['ca'].unique()"
   ]
  },
  {
   "cell_type": "code",
   "execution_count": 23,
   "metadata": {},
   "outputs": [
    {
     "data": {
      "text/plain": [
       "count    253.000000\n",
       "mean       0.691700\n",
       "std        0.946909\n",
       "min        0.000000\n",
       "25%        0.000000\n",
       "50%        0.000000\n",
       "75%        1.000000\n",
       "max        3.000000\n",
       "Name: ca, dtype: float64"
      ]
     },
     "execution_count": 23,
     "metadata": {},
     "output_type": "execute_result"
    }
   ],
   "source": [
    "data_train['ca'].describe()"
   ]
  },
  {
   "cell_type": "markdown",
   "metadata": {},
   "source": [
    "La variable 'thal' es categórica y admite valores iguales a 3, 6 o 7."
   ]
  },
  {
   "cell_type": "code",
   "execution_count": 24,
   "metadata": {},
   "outputs": [
    {
     "data": {
      "text/plain": [
       "array([ 3.,  7., nan,  6.])"
      ]
     },
     "execution_count": 24,
     "metadata": {},
     "output_type": "execute_result"
    }
   ],
   "source": [
    "# THAL\n",
    "# ---------------------\n",
    "# data_train['thal'].unique() - Contiene valores distintos a 0, 1, 2 o 3.\n",
    "# data_test['thal'].unique() - Contiene valores distintos a 0, 1, 2 o 3.\n",
    "# ---------------------\n",
    "\n",
    "\"\"\" Se han detectado valores distintos a 0, 1 o 2 para el dataset de prueba. \"\"\"\n",
    "data_test['thal'] = data_test['thal'].apply(lambda x: x if x == 6 or x == 7 or x == 3 else None)\n",
    "data_train['thal'] = data_train['thal'].apply(lambda x: x if x == 6 or x == 7 or x == 3 else None)\n",
    "\n",
    "data_train['thal'].unique()"
   ]
  },
  {
   "cell_type": "code",
   "execution_count": 25,
   "metadata": {},
   "outputs": [
    {
     "data": {
      "text/plain": [
       "count    80.000000\n",
       "mean      4.937500\n",
       "std       1.924813\n",
       "min       3.000000\n",
       "25%       3.000000\n",
       "50%       6.000000\n",
       "75%       7.000000\n",
       "max       7.000000\n",
       "Name: thal, dtype: float64"
      ]
     },
     "execution_count": 25,
     "metadata": {},
     "output_type": "execute_result"
    }
   ],
   "source": [
    "data_test['thal'].describe()"
   ]
  },
  {
   "cell_type": "markdown",
   "metadata": {},
   "source": [
    "Por último, transformamos todas las variables a su tipo correspondiente."
   ]
  },
  {
   "cell_type": "code",
   "execution_count": 26,
   "metadata": {},
   "outputs": [
    {
     "name": "stdout",
     "output_type": "stream",
     "text": [
      "<class 'pandas.core.frame.DataFrame'>\n",
      "RangeIndex: 732 entries, 0 to 731\n",
      "Data columns (total 14 columns):\n",
      " #   Column    Non-Null Count  Dtype   \n",
      "---  ------    --------------  -----   \n",
      " 0   age       732 non-null    int64   \n",
      " 1   sex       732 non-null    category\n",
      " 2   cp        732 non-null    category\n",
      " 3   trestbps  684 non-null    float64 \n",
      " 4   chol      576 non-null    float64 \n",
      " 5   fbs       666 non-null    category\n",
      " 6   restecg   732 non-null    category\n",
      " 7   thalach   688 non-null    float64 \n",
      " 8   exang     688 non-null    category\n",
      " 9   oldpeak   683 non-null    float64 \n",
      " 10  slope     485 non-null    category\n",
      " 11  ca        253 non-null    category\n",
      " 12  thal      353 non-null    category\n",
      " 13  label     732 non-null    category\n",
      "dtypes: category(9), float64(4), int64(1)\n",
      "memory usage: 36.5 KB\n"
     ]
    }
   ],
   "source": [
    "# Númericas - Continuas\n",
    "data_train['age'] = data_train['age'].astype(int)\n",
    "data_train['trestbps'] = data_train['trestbps'].astype(float)\n",
    "data_train['chol'] = data_train['chol'].astype(float)\n",
    "data_train['thalach'] = data_train['thalach'].astype(float)\n",
    "data_train['oldpeak'] = data_train['oldpeak'].astype(float)\n",
    "\n",
    "# Categóricas\n",
    "data_train['sex'] = data_train['sex'].astype('category')\n",
    "data_train['cp'] = data_train['cp'].astype('category')\n",
    "data_train['fbs'] = data_train['fbs'].astype('category')\n",
    "data_train['restecg'] = data_train['restecg'].astype('category')\n",
    "data_train['exang'] = data_train['exang'].astype('category')\n",
    "data_train['slope'] = data_train['slope'].astype('category')\n",
    "data_train['ca'] = data_train['ca'].astype('category')\n",
    "data_train['thal'] = data_train['thal'].astype('category')\n",
    "data_train['label'] = data_train['label'].astype('category')\n",
    "\n",
    "data_train.info()"
   ]
  },
  {
   "cell_type": "code",
   "execution_count": 27,
   "metadata": {},
   "outputs": [],
   "source": [
    "# Númericas - Continuas\n",
    "data_test['age'] = data_test['age'].astype(int)\n",
    "data_test['trestbps'] = data_test['trestbps'].astype(float)\n",
    "data_test['chol'] = data_test['chol'].astype(float)\n",
    "data_test['thalach'] = data_test['thalach'].astype(float)\n",
    "data_test['oldpeak'] = data_test['oldpeak'].astype(float)\n",
    "\n",
    "# Categóricas\n",
    "data_test['sex'] = data_test['sex'].astype('category')\n",
    "data_test['cp'] = data_test['cp'].astype('category')\n",
    "data_test['fbs'] = data_test['fbs'].astype('category')\n",
    "data_test['restecg'] = data_test['restecg'].astype('category')\n",
    "data_test['exang'] = data_test['exang'].astype('category')\n",
    "data_test['slope'] = data_test['slope'].astype('category')\n",
    "data_test['ca'] = data_test['ca'].astype('category')\n",
    "data_test['thal'] = data_test['thal'].astype('category')"
   ]
  },
  {
   "cell_type": "markdown",
   "metadata": {},
   "source": [
    "#### TRATAMIENTO DE LOS VALORES NaN."
   ]
  },
  {
   "cell_type": "code",
   "execution_count": 28,
   "metadata": {},
   "outputs": [
    {
     "name": "stdout",
     "output_type": "stream",
     "text": [
      "Porcentaje de valores nulos por fila.\n",
      "Train:\n",
      "---------------------\n",
      "age          0.000000\n",
      "sex          0.000000\n",
      "cp           0.000000\n",
      "trestbps     6.557377\n",
      "chol        21.311475\n",
      "fbs          9.016393\n",
      "restecg      0.000000\n",
      "thalach      6.010929\n",
      "exang        6.010929\n",
      "oldpeak      6.693989\n",
      "slope       33.743169\n",
      "ca          65.437158\n",
      "thal        51.775956\n",
      "label        0.000000\n",
      "dtype: float64\n",
      "\n",
      "Test:\n",
      "---------------------\n",
      "age          0.000000\n",
      "sex          0.000000\n",
      "cp           0.000000\n",
      "trestbps     6.521739\n",
      "chol        24.456522\n",
      "fbs         12.500000\n",
      "restecg      1.086957\n",
      "thalach      5.978261\n",
      "exang        5.978261\n",
      "oldpeak      7.065217\n",
      "slope       33.152174\n",
      "ca          70.108696\n",
      "thal        56.521739\n",
      "dtype: float64\n"
     ]
    }
   ],
   "source": [
    "total_filas_train = len(data_train)\n",
    "total_filas_test = len(data_test)\n",
    "\n",
    "# Calcular el porcentaje de NaN por columna\n",
    "porcentaje_nan_por_columna_train = (data_train.isna().sum() / total_filas_train) * 100\n",
    "porcentaje_nan_por_columna_test = (data_test.isna().sum() / total_filas_test) * 100\n",
    "print(\"Porcentaje de valores nulos por fila.\")\n",
    "print(\"Train:\")\n",
    "print(\"---------------------\")\n",
    "print(porcentaje_nan_por_columna_train)\n",
    "print(\"\\nTest:\")\n",
    "print(\"---------------------\")\n",
    "print(porcentaje_nan_por_columna_test)"
   ]
  },
  {
   "cell_type": "markdown",
   "metadata": {},
   "source": [
    "Se va a estudiar la opción de eliminar las columnas 'ca' y 'thal' ya que representan la mayor cantidad de NaN (superior al 40%)."
   ]
  },
  {
   "cell_type": "code",
   "execution_count": 29,
   "metadata": {},
   "outputs": [],
   "source": [
    "data_train_v2 = data_train.drop(['ca', 'thal'], axis=1)\n",
    "data_test_v2 = data_test.drop(['ca', 'thal'], axis=1)"
   ]
  },
  {
   "cell_type": "code",
   "execution_count": 30,
   "metadata": {},
   "outputs": [
    {
     "data": {
      "text/html": [
       "<div>\n",
       "<style scoped>\n",
       "    .dataframe tbody tr th:only-of-type {\n",
       "        vertical-align: middle;\n",
       "    }\n",
       "\n",
       "    .dataframe tbody tr th {\n",
       "        vertical-align: top;\n",
       "    }\n",
       "\n",
       "    .dataframe thead th {\n",
       "        text-align: right;\n",
       "    }\n",
       "</style>\n",
       "<table border=\"1\" class=\"dataframe\">\n",
       "  <thead>\n",
       "    <tr style=\"text-align: right;\">\n",
       "      <th></th>\n",
       "      <th>age</th>\n",
       "      <th>sex</th>\n",
       "      <th>cp</th>\n",
       "      <th>trestbps</th>\n",
       "      <th>chol</th>\n",
       "      <th>fbs</th>\n",
       "      <th>restecg</th>\n",
       "      <th>thalach</th>\n",
       "      <th>exang</th>\n",
       "      <th>oldpeak</th>\n",
       "      <th>slope</th>\n",
       "      <th>label</th>\n",
       "    </tr>\n",
       "  </thead>\n",
       "  <tbody>\n",
       "    <tr>\n",
       "      <th>0</th>\n",
       "      <td>51</td>\n",
       "      <td>1.0</td>\n",
       "      <td>1.0</td>\n",
       "      <td>125.0</td>\n",
       "      <td>213.0</td>\n",
       "      <td>0.0</td>\n",
       "      <td>2.0</td>\n",
       "      <td>125.0</td>\n",
       "      <td>1.0</td>\n",
       "      <td>1.4</td>\n",
       "      <td>1.0</td>\n",
       "      <td>0.0</td>\n",
       "    </tr>\n",
       "    <tr>\n",
       "      <th>1</th>\n",
       "      <td>54</td>\n",
       "      <td>1.0</td>\n",
       "      <td>3.0</td>\n",
       "      <td>120.0</td>\n",
       "      <td>237.0</td>\n",
       "      <td>0.0</td>\n",
       "      <td>0.0</td>\n",
       "      <td>150.0</td>\n",
       "      <td>1.0</td>\n",
       "      <td>1.5</td>\n",
       "      <td>NaN</td>\n",
       "      <td>2.0</td>\n",
       "    </tr>\n",
       "    <tr>\n",
       "      <th>2</th>\n",
       "      <td>63</td>\n",
       "      <td>1.0</td>\n",
       "      <td>4.0</td>\n",
       "      <td>140.0</td>\n",
       "      <td>NaN</td>\n",
       "      <td>NaN</td>\n",
       "      <td>2.0</td>\n",
       "      <td>149.0</td>\n",
       "      <td>0.0</td>\n",
       "      <td>2.0</td>\n",
       "      <td>1.0</td>\n",
       "      <td>2.0</td>\n",
       "    </tr>\n",
       "    <tr>\n",
       "      <th>3</th>\n",
       "      <td>52</td>\n",
       "      <td>0.0</td>\n",
       "      <td>2.0</td>\n",
       "      <td>140.0</td>\n",
       "      <td>NaN</td>\n",
       "      <td>0.0</td>\n",
       "      <td>0.0</td>\n",
       "      <td>140.0</td>\n",
       "      <td>0.0</td>\n",
       "      <td>0.0</td>\n",
       "      <td>NaN</td>\n",
       "      <td>0.0</td>\n",
       "    </tr>\n",
       "    <tr>\n",
       "      <th>4</th>\n",
       "      <td>55</td>\n",
       "      <td>1.0</td>\n",
       "      <td>4.0</td>\n",
       "      <td>140.0</td>\n",
       "      <td>217.0</td>\n",
       "      <td>0.0</td>\n",
       "      <td>0.0</td>\n",
       "      <td>111.0</td>\n",
       "      <td>1.0</td>\n",
       "      <td>5.6</td>\n",
       "      <td>3.0</td>\n",
       "      <td>3.0</td>\n",
       "    </tr>\n",
       "  </tbody>\n",
       "</table>\n",
       "</div>"
      ],
      "text/plain": [
       "   age  sex   cp  trestbps   chol  fbs restecg  thalach exang  oldpeak slope  \\\n",
       "0   51  1.0  1.0     125.0  213.0  0.0     2.0    125.0   1.0      1.4   1.0   \n",
       "1   54  1.0  3.0     120.0  237.0  0.0     0.0    150.0   1.0      1.5   NaN   \n",
       "2   63  1.0  4.0     140.0    NaN  NaN     2.0    149.0   0.0      2.0   1.0   \n",
       "3   52  0.0  2.0     140.0    NaN  0.0     0.0    140.0   0.0      0.0   NaN   \n",
       "4   55  1.0  4.0     140.0  217.0  0.0     0.0    111.0   1.0      5.6   3.0   \n",
       "\n",
       "  label  \n",
       "0   0.0  \n",
       "1   2.0  \n",
       "2   2.0  \n",
       "3   0.0  \n",
       "4   3.0  "
      ]
     },
     "execution_count": 30,
     "metadata": {},
     "output_type": "execute_result"
    }
   ],
   "source": [
    "data_train_v2.head()"
   ]
  },
  {
   "cell_type": "code",
   "execution_count": 31,
   "metadata": {},
   "outputs": [
    {
     "data": {
      "text/html": [
       "<div>\n",
       "<style scoped>\n",
       "    .dataframe tbody tr th:only-of-type {\n",
       "        vertical-align: middle;\n",
       "    }\n",
       "\n",
       "    .dataframe tbody tr th {\n",
       "        vertical-align: top;\n",
       "    }\n",
       "\n",
       "    .dataframe thead th {\n",
       "        text-align: right;\n",
       "    }\n",
       "</style>\n",
       "<table border=\"1\" class=\"dataframe\">\n",
       "  <thead>\n",
       "    <tr style=\"text-align: right;\">\n",
       "      <th></th>\n",
       "      <th>age</th>\n",
       "      <th>sex</th>\n",
       "      <th>cp</th>\n",
       "      <th>trestbps</th>\n",
       "      <th>chol</th>\n",
       "      <th>fbs</th>\n",
       "      <th>restecg</th>\n",
       "      <th>thalach</th>\n",
       "      <th>exang</th>\n",
       "      <th>oldpeak</th>\n",
       "      <th>slope</th>\n",
       "    </tr>\n",
       "  </thead>\n",
       "  <tbody>\n",
       "    <tr>\n",
       "      <th>0</th>\n",
       "      <td>57</td>\n",
       "      <td>1.0</td>\n",
       "      <td>4.0</td>\n",
       "      <td>156.0</td>\n",
       "      <td>173.0</td>\n",
       "      <td>0.0</td>\n",
       "      <td>2.0</td>\n",
       "      <td>119.0</td>\n",
       "      <td>1.0</td>\n",
       "      <td>3.0</td>\n",
       "      <td>3.0</td>\n",
       "    </tr>\n",
       "    <tr>\n",
       "      <th>1</th>\n",
       "      <td>52</td>\n",
       "      <td>1.0</td>\n",
       "      <td>2.0</td>\n",
       "      <td>160.0</td>\n",
       "      <td>196.0</td>\n",
       "      <td>0.0</td>\n",
       "      <td>0.0</td>\n",
       "      <td>165.0</td>\n",
       "      <td>0.0</td>\n",
       "      <td>0.0</td>\n",
       "      <td>NaN</td>\n",
       "    </tr>\n",
       "    <tr>\n",
       "      <th>2</th>\n",
       "      <td>48</td>\n",
       "      <td>1.0</td>\n",
       "      <td>2.0</td>\n",
       "      <td>100.0</td>\n",
       "      <td>NaN</td>\n",
       "      <td>0.0</td>\n",
       "      <td>0.0</td>\n",
       "      <td>100.0</td>\n",
       "      <td>0.0</td>\n",
       "      <td>0.0</td>\n",
       "      <td>NaN</td>\n",
       "    </tr>\n",
       "    <tr>\n",
       "      <th>3</th>\n",
       "      <td>62</td>\n",
       "      <td>1.0</td>\n",
       "      <td>4.0</td>\n",
       "      <td>115.0</td>\n",
       "      <td>NaN</td>\n",
       "      <td>NaN</td>\n",
       "      <td>0.0</td>\n",
       "      <td>128.0</td>\n",
       "      <td>1.0</td>\n",
       "      <td>2.5</td>\n",
       "      <td>3.0</td>\n",
       "    </tr>\n",
       "    <tr>\n",
       "      <th>4</th>\n",
       "      <td>51</td>\n",
       "      <td>1.0</td>\n",
       "      <td>3.0</td>\n",
       "      <td>110.0</td>\n",
       "      <td>175.0</td>\n",
       "      <td>0.0</td>\n",
       "      <td>0.0</td>\n",
       "      <td>123.0</td>\n",
       "      <td>0.0</td>\n",
       "      <td>0.6</td>\n",
       "      <td>1.0</td>\n",
       "    </tr>\n",
       "  </tbody>\n",
       "</table>\n",
       "</div>"
      ],
      "text/plain": [
       "   age  sex   cp  trestbps   chol  fbs restecg  thalach exang  oldpeak slope\n",
       "0   57  1.0  4.0     156.0  173.0  0.0     2.0    119.0   1.0      3.0   3.0\n",
       "1   52  1.0  2.0     160.0  196.0  0.0     0.0    165.0   0.0      0.0   NaN\n",
       "2   48  1.0  2.0     100.0    NaN  0.0     0.0    100.0   0.0      0.0   NaN\n",
       "3   62  1.0  4.0     115.0    NaN  NaN     0.0    128.0   1.0      2.5   3.0\n",
       "4   51  1.0  3.0     110.0  175.0  0.0     0.0    123.0   0.0      0.6   1.0"
      ]
     },
     "execution_count": 31,
     "metadata": {},
     "output_type": "execute_result"
    }
   ],
   "source": [
    "data_test_v2.head()"
   ]
  },
  {
   "cell_type": "code",
   "execution_count": 32,
   "metadata": {},
   "outputs": [],
   "source": [
    "from sklearn.impute import KNNImputer\n",
    "from sklearn.model_selection import train_test_split\n",
    "from sklearn.preprocessing import StandardScaler"
   ]
  },
  {
   "cell_type": "code",
   "execution_count": 33,
   "metadata": {},
   "outputs": [
    {
     "name": "stdout",
     "output_type": "stream",
     "text": [
      "Valores nulos por columna:\n",
      "--------------------------\n",
      "age           0\n",
      "sex           0\n",
      "cp            0\n",
      "trestbps     48\n",
      "chol        156\n",
      "fbs          66\n",
      "restecg       0\n",
      "thalach      44\n",
      "exang        44\n",
      "oldpeak      49\n",
      "slope       247\n",
      "label         0\n",
      "dtype: int64\n"
     ]
    }
   ],
   "source": [
    "print(\"Valores nulos por columna:\")\n",
    "print(\"--------------------------\")\n",
    "print(data_train_v2.isnull().sum())"
   ]
  },
  {
   "cell_type": "markdown",
   "metadata": {},
   "source": [
    "En un primer lugar vamos a tratar los valores NaN con el método KNN."
   ]
  },
  {
   "cell_type": "code",
   "execution_count": 34,
   "metadata": {},
   "outputs": [],
   "source": [
    "imputer = KNNImputer(n_neighbors=5)\n",
    "scaler = StandardScaler()\n",
    "\n",
    "data_train_v2_scaled = data_train_v2.copy()\n",
    "label = data_train_v2_scaled['label']\n",
    "\n",
    "num_cols = ['trestbps', 'chol', 'thalach', 'oldpeak']\n",
    "X_numeric = data_train_v2[num_cols]\n",
    "\n",
    "X_scaled = scaler.fit_transform(X_numeric)\n",
    "data_train_v2_scaled = data_train_v2_scaled.reset_index()\n",
    "data_train_v2_scaled.loc[:, num_cols] = X_scaled\n",
    "\n",
    "X_imputed = imputer.fit_transform(data_train_v2_scaled)\n",
    "X_imputed_df = pd.DataFrame(X_imputed, columns=data_train_v2_scaled.columns)\n",
    "X_imputed_df.drop('index', axis=1, inplace=True)"
   ]
  },
  {
   "cell_type": "code",
   "execution_count": 35,
   "metadata": {},
   "outputs": [
    {
     "data": {
      "text/html": [
       "<div>\n",
       "<style scoped>\n",
       "    .dataframe tbody tr th:only-of-type {\n",
       "        vertical-align: middle;\n",
       "    }\n",
       "\n",
       "    .dataframe tbody tr th {\n",
       "        vertical-align: top;\n",
       "    }\n",
       "\n",
       "    .dataframe thead th {\n",
       "        text-align: right;\n",
       "    }\n",
       "</style>\n",
       "<table border=\"1\" class=\"dataframe\">\n",
       "  <thead>\n",
       "    <tr style=\"text-align: right;\">\n",
       "      <th></th>\n",
       "      <th>age</th>\n",
       "      <th>sex</th>\n",
       "      <th>cp</th>\n",
       "      <th>trestbps</th>\n",
       "      <th>chol</th>\n",
       "      <th>fbs</th>\n",
       "      <th>restecg</th>\n",
       "      <th>thalach</th>\n",
       "      <th>exang</th>\n",
       "      <th>oldpeak</th>\n",
       "      <th>slope</th>\n",
       "      <th>label</th>\n",
       "    </tr>\n",
       "  </thead>\n",
       "  <tbody>\n",
       "    <tr>\n",
       "      <th>0</th>\n",
       "      <td>51.0</td>\n",
       "      <td>1.0</td>\n",
       "      <td>1.0</td>\n",
       "      <td>-0.386893</td>\n",
       "      <td>-0.563639</td>\n",
       "      <td>0.0</td>\n",
       "      <td>2.0</td>\n",
       "      <td>-0.506166</td>\n",
       "      <td>1.0</td>\n",
       "      <td>0.466433</td>\n",
       "      <td>1.0</td>\n",
       "      <td>0.0</td>\n",
       "    </tr>\n",
       "    <tr>\n",
       "      <th>1</th>\n",
       "      <td>54.0</td>\n",
       "      <td>1.0</td>\n",
       "      <td>3.0</td>\n",
       "      <td>-0.656763</td>\n",
       "      <td>-0.163673</td>\n",
       "      <td>0.0</td>\n",
       "      <td>0.0</td>\n",
       "      <td>0.457426</td>\n",
       "      <td>1.0</td>\n",
       "      <td>0.556349</td>\n",
       "      <td>1.8</td>\n",
       "      <td>2.0</td>\n",
       "    </tr>\n",
       "    <tr>\n",
       "      <th>2</th>\n",
       "      <td>63.0</td>\n",
       "      <td>1.0</td>\n",
       "      <td>4.0</td>\n",
       "      <td>0.422718</td>\n",
       "      <td>0.149634</td>\n",
       "      <td>0.0</td>\n",
       "      <td>2.0</td>\n",
       "      <td>0.418883</td>\n",
       "      <td>0.0</td>\n",
       "      <td>1.005931</td>\n",
       "      <td>1.0</td>\n",
       "      <td>2.0</td>\n",
       "    </tr>\n",
       "    <tr>\n",
       "      <th>3</th>\n",
       "      <td>52.0</td>\n",
       "      <td>0.0</td>\n",
       "      <td>2.0</td>\n",
       "      <td>0.422718</td>\n",
       "      <td>-0.556973</td>\n",
       "      <td>0.0</td>\n",
       "      <td>0.0</td>\n",
       "      <td>0.071989</td>\n",
       "      <td>0.0</td>\n",
       "      <td>-0.792396</td>\n",
       "      <td>2.2</td>\n",
       "      <td>0.0</td>\n",
       "    </tr>\n",
       "    <tr>\n",
       "      <th>4</th>\n",
       "      <td>55.0</td>\n",
       "      <td>1.0</td>\n",
       "      <td>4.0</td>\n",
       "      <td>0.422718</td>\n",
       "      <td>-0.496978</td>\n",
       "      <td>0.0</td>\n",
       "      <td>0.0</td>\n",
       "      <td>-1.045778</td>\n",
       "      <td>1.0</td>\n",
       "      <td>4.242918</td>\n",
       "      <td>3.0</td>\n",
       "      <td>3.0</td>\n",
       "    </tr>\n",
       "  </tbody>\n",
       "</table>\n",
       "</div>"
      ],
      "text/plain": [
       "    age  sex   cp  trestbps      chol  fbs  restecg   thalach  exang  \\\n",
       "0  51.0  1.0  1.0 -0.386893 -0.563639  0.0      2.0 -0.506166    1.0   \n",
       "1  54.0  1.0  3.0 -0.656763 -0.163673  0.0      0.0  0.457426    1.0   \n",
       "2  63.0  1.0  4.0  0.422718  0.149634  0.0      2.0  0.418883    0.0   \n",
       "3  52.0  0.0  2.0  0.422718 -0.556973  0.0      0.0  0.071989    0.0   \n",
       "4  55.0  1.0  4.0  0.422718 -0.496978  0.0      0.0 -1.045778    1.0   \n",
       "\n",
       "    oldpeak  slope  label  \n",
       "0  0.466433    1.0    0.0  \n",
       "1  0.556349    1.8    2.0  \n",
       "2  1.005931    1.0    2.0  \n",
       "3 -0.792396    2.2    0.0  \n",
       "4  4.242918    3.0    3.0  "
      ]
     },
     "execution_count": 35,
     "metadata": {},
     "output_type": "execute_result"
    }
   ],
   "source": [
    "X_imputed_df.head()"
   ]
  },
  {
   "cell_type": "code",
   "execution_count": 36,
   "metadata": {},
   "outputs": [
    {
     "name": "stdout",
     "output_type": "stream",
     "text": [
      "Valores nulos por columna:\n",
      "--------------------------\n",
      "age         0\n",
      "sex         0\n",
      "cp          0\n",
      "trestbps    0\n",
      "chol        0\n",
      "fbs         0\n",
      "restecg     0\n",
      "thalach     0\n",
      "exang       0\n",
      "oldpeak     0\n",
      "slope       0\n",
      "label       0\n",
      "dtype: int64\n"
     ]
    }
   ],
   "source": [
    "print(\"Valores nulos por columna:\")\n",
    "print(\"--------------------------\")\n",
    "print(X_imputed_df.isnull().sum())"
   ]
  },
  {
   "cell_type": "code",
   "execution_count": 37,
   "metadata": {},
   "outputs": [
    {
     "data": {
      "text/html": [
       "<div>\n",
       "<style scoped>\n",
       "    .dataframe tbody tr th:only-of-type {\n",
       "        vertical-align: middle;\n",
       "    }\n",
       "\n",
       "    .dataframe tbody tr th {\n",
       "        vertical-align: top;\n",
       "    }\n",
       "\n",
       "    .dataframe thead th {\n",
       "        text-align: right;\n",
       "    }\n",
       "</style>\n",
       "<table border=\"1\" class=\"dataframe\">\n",
       "  <thead>\n",
       "    <tr style=\"text-align: right;\">\n",
       "      <th></th>\n",
       "      <th>age</th>\n",
       "      <th>sex</th>\n",
       "      <th>cp</th>\n",
       "      <th>trestbps</th>\n",
       "      <th>chol</th>\n",
       "      <th>fbs</th>\n",
       "      <th>restecg</th>\n",
       "      <th>thalach</th>\n",
       "      <th>exang</th>\n",
       "      <th>oldpeak</th>\n",
       "      <th>slope</th>\n",
       "    </tr>\n",
       "  </thead>\n",
       "  <tbody>\n",
       "    <tr>\n",
       "      <th>0</th>\n",
       "      <td>57.0</td>\n",
       "      <td>1.0</td>\n",
       "      <td>4.0</td>\n",
       "      <td>1.256224</td>\n",
       "      <td>-1.407453</td>\n",
       "      <td>0.0</td>\n",
       "      <td>2.0</td>\n",
       "      <td>-0.628280</td>\n",
       "      <td>1.0</td>\n",
       "      <td>2.162858</td>\n",
       "      <td>3.0</td>\n",
       "    </tr>\n",
       "    <tr>\n",
       "      <th>1</th>\n",
       "      <td>52.0</td>\n",
       "      <td>1.0</td>\n",
       "      <td>2.0</td>\n",
       "      <td>1.472890</td>\n",
       "      <td>-0.967521</td>\n",
       "      <td>0.0</td>\n",
       "      <td>0.0</td>\n",
       "      <td>1.161217</td>\n",
       "      <td>0.0</td>\n",
       "      <td>-0.861252</td>\n",
       "      <td>1.8</td>\n",
       "    </tr>\n",
       "    <tr>\n",
       "      <th>2</th>\n",
       "      <td>48.0</td>\n",
       "      <td>1.0</td>\n",
       "      <td>2.0</td>\n",
       "      <td>-1.777105</td>\n",
       "      <td>-0.956044</td>\n",
       "      <td>0.0</td>\n",
       "      <td>0.0</td>\n",
       "      <td>-1.367420</td>\n",
       "      <td>0.0</td>\n",
       "      <td>-0.861252</td>\n",
       "      <td>1.4</td>\n",
       "    </tr>\n",
       "    <tr>\n",
       "      <th>3</th>\n",
       "      <td>62.0</td>\n",
       "      <td>1.0</td>\n",
       "      <td>4.0</td>\n",
       "      <td>-0.964606</td>\n",
       "      <td>-0.642353</td>\n",
       "      <td>0.2</td>\n",
       "      <td>0.0</td>\n",
       "      <td>-0.278161</td>\n",
       "      <td>1.0</td>\n",
       "      <td>1.658839</td>\n",
       "      <td>3.0</td>\n",
       "    </tr>\n",
       "    <tr>\n",
       "      <th>4</th>\n",
       "      <td>51.0</td>\n",
       "      <td>1.0</td>\n",
       "      <td>3.0</td>\n",
       "      <td>-1.235439</td>\n",
       "      <td>-1.369198</td>\n",
       "      <td>0.0</td>\n",
       "      <td>0.0</td>\n",
       "      <td>-0.472672</td>\n",
       "      <td>0.0</td>\n",
       "      <td>-0.256430</td>\n",
       "      <td>1.0</td>\n",
       "    </tr>\n",
       "  </tbody>\n",
       "</table>\n",
       "</div>"
      ],
      "text/plain": [
       "    age  sex   cp  trestbps      chol  fbs  restecg   thalach  exang  \\\n",
       "0  57.0  1.0  4.0  1.256224 -1.407453  0.0      2.0 -0.628280    1.0   \n",
       "1  52.0  1.0  2.0  1.472890 -0.967521  0.0      0.0  1.161217    0.0   \n",
       "2  48.0  1.0  2.0 -1.777105 -0.956044  0.0      0.0 -1.367420    0.0   \n",
       "3  62.0  1.0  4.0 -0.964606 -0.642353  0.2      0.0 -0.278161    1.0   \n",
       "4  51.0  1.0  3.0 -1.235439 -1.369198  0.0      0.0 -0.472672    0.0   \n",
       "\n",
       "    oldpeak  slope  \n",
       "0  2.162858    3.0  \n",
       "1 -0.861252    1.8  \n",
       "2 -0.861252    1.4  \n",
       "3  1.658839    3.0  \n",
       "4 -0.256430    1.0  "
      ]
     },
     "execution_count": 37,
     "metadata": {},
     "output_type": "execute_result"
    }
   ],
   "source": [
    "data_test_v2_scaled = data_test_v2.copy()\n",
    "\n",
    "num_cols_test = ['trestbps', 'chol', 'thalach', 'oldpeak']\n",
    "X_numeric_test = data_test_v2_scaled[num_cols]\n",
    "\n",
    "X_scaled_test = scaler.fit_transform(X_numeric_test)\n",
    "data_test_v2_scaled = data_test_v2_scaled.reset_index()\n",
    "data_test_v2_scaled.loc[:, num_cols] = X_scaled_test\n",
    "\n",
    "X_imputed_test = imputer.fit_transform(data_test_v2_scaled)\n",
    "X_imputed_test_df = pd.DataFrame(X_imputed_test, columns=data_test_v2_scaled.columns)\n",
    "X_imputed_test_df.drop('index', axis=1, inplace=True)\n",
    "\n",
    "X_imputed_test_df.head()"
   ]
  },
  {
   "cell_type": "code",
   "execution_count": 38,
   "metadata": {},
   "outputs": [
    {
     "name": "stdout",
     "output_type": "stream",
     "text": [
      "Valores nulos por columna:\n",
      "--------------------------\n",
      "age         0\n",
      "sex         0\n",
      "cp          0\n",
      "trestbps    0\n",
      "chol        0\n",
      "fbs         0\n",
      "restecg     0\n",
      "thalach     0\n",
      "exang       0\n",
      "oldpeak     0\n",
      "slope       0\n",
      "dtype: int64\n"
     ]
    }
   ],
   "source": [
    "print(\"Valores nulos por columna:\")\n",
    "print(\"--------------------------\")\n",
    "print(X_imputed_test_df.isnull().sum())"
   ]
  },
  {
   "cell_type": "markdown",
   "metadata": {},
   "source": [
    "#### ENTRENAMIENTO DEL MODELO."
   ]
  },
  {
   "cell_type": "markdown",
   "metadata": {},
   "source": [
    "##### 01. RANDOM FOREST BÁSICO"
   ]
  },
  {
   "cell_type": "code",
   "execution_count": 39,
   "metadata": {},
   "outputs": [
    {
     "data": {
      "text/html": [
       "<style>#sk-container-id-1 {\n",
       "  /* Definition of color scheme common for light and dark mode */\n",
       "  --sklearn-color-text: black;\n",
       "  --sklearn-color-line: gray;\n",
       "  /* Definition of color scheme for unfitted estimators */\n",
       "  --sklearn-color-unfitted-level-0: #fff5e6;\n",
       "  --sklearn-color-unfitted-level-1: #f6e4d2;\n",
       "  --sklearn-color-unfitted-level-2: #ffe0b3;\n",
       "  --sklearn-color-unfitted-level-3: chocolate;\n",
       "  /* Definition of color scheme for fitted estimators */\n",
       "  --sklearn-color-fitted-level-0: #f0f8ff;\n",
       "  --sklearn-color-fitted-level-1: #d4ebff;\n",
       "  --sklearn-color-fitted-level-2: #b3dbfd;\n",
       "  --sklearn-color-fitted-level-3: cornflowerblue;\n",
       "\n",
       "  /* Specific color for light theme */\n",
       "  --sklearn-color-text-on-default-background: var(--sg-text-color, var(--theme-code-foreground, var(--jp-content-font-color1, black)));\n",
       "  --sklearn-color-background: var(--sg-background-color, var(--theme-background, var(--jp-layout-color0, white)));\n",
       "  --sklearn-color-border-box: var(--sg-text-color, var(--theme-code-foreground, var(--jp-content-font-color1, black)));\n",
       "  --sklearn-color-icon: #696969;\n",
       "\n",
       "  @media (prefers-color-scheme: dark) {\n",
       "    /* Redefinition of color scheme for dark theme */\n",
       "    --sklearn-color-text-on-default-background: var(--sg-text-color, var(--theme-code-foreground, var(--jp-content-font-color1, white)));\n",
       "    --sklearn-color-background: var(--sg-background-color, var(--theme-background, var(--jp-layout-color0, #111)));\n",
       "    --sklearn-color-border-box: var(--sg-text-color, var(--theme-code-foreground, var(--jp-content-font-color1, white)));\n",
       "    --sklearn-color-icon: #878787;\n",
       "  }\n",
       "}\n",
       "\n",
       "#sk-container-id-1 {\n",
       "  color: var(--sklearn-color-text);\n",
       "}\n",
       "\n",
       "#sk-container-id-1 pre {\n",
       "  padding: 0;\n",
       "}\n",
       "\n",
       "#sk-container-id-1 input.sk-hidden--visually {\n",
       "  border: 0;\n",
       "  clip: rect(1px 1px 1px 1px);\n",
       "  clip: rect(1px, 1px, 1px, 1px);\n",
       "  height: 1px;\n",
       "  margin: -1px;\n",
       "  overflow: hidden;\n",
       "  padding: 0;\n",
       "  position: absolute;\n",
       "  width: 1px;\n",
       "}\n",
       "\n",
       "#sk-container-id-1 div.sk-dashed-wrapped {\n",
       "  border: 1px dashed var(--sklearn-color-line);\n",
       "  margin: 0 0.4em 0.5em 0.4em;\n",
       "  box-sizing: border-box;\n",
       "  padding-bottom: 0.4em;\n",
       "  background-color: var(--sklearn-color-background);\n",
       "}\n",
       "\n",
       "#sk-container-id-1 div.sk-container {\n",
       "  /* jupyter's `normalize.less` sets `[hidden] { display: none; }`\n",
       "     but bootstrap.min.css set `[hidden] { display: none !important; }`\n",
       "     so we also need the `!important` here to be able to override the\n",
       "     default hidden behavior on the sphinx rendered scikit-learn.org.\n",
       "     See: https://github.com/scikit-learn/scikit-learn/issues/21755 */\n",
       "  display: inline-block !important;\n",
       "  position: relative;\n",
       "}\n",
       "\n",
       "#sk-container-id-1 div.sk-text-repr-fallback {\n",
       "  display: none;\n",
       "}\n",
       "\n",
       "div.sk-parallel-item,\n",
       "div.sk-serial,\n",
       "div.sk-item {\n",
       "  /* draw centered vertical line to link estimators */\n",
       "  background-image: linear-gradient(var(--sklearn-color-text-on-default-background), var(--sklearn-color-text-on-default-background));\n",
       "  background-size: 2px 100%;\n",
       "  background-repeat: no-repeat;\n",
       "  background-position: center center;\n",
       "}\n",
       "\n",
       "/* Parallel-specific style estimator block */\n",
       "\n",
       "#sk-container-id-1 div.sk-parallel-item::after {\n",
       "  content: \"\";\n",
       "  width: 100%;\n",
       "  border-bottom: 2px solid var(--sklearn-color-text-on-default-background);\n",
       "  flex-grow: 1;\n",
       "}\n",
       "\n",
       "#sk-container-id-1 div.sk-parallel {\n",
       "  display: flex;\n",
       "  align-items: stretch;\n",
       "  justify-content: center;\n",
       "  background-color: var(--sklearn-color-background);\n",
       "  position: relative;\n",
       "}\n",
       "\n",
       "#sk-container-id-1 div.sk-parallel-item {\n",
       "  display: flex;\n",
       "  flex-direction: column;\n",
       "}\n",
       "\n",
       "#sk-container-id-1 div.sk-parallel-item:first-child::after {\n",
       "  align-self: flex-end;\n",
       "  width: 50%;\n",
       "}\n",
       "\n",
       "#sk-container-id-1 div.sk-parallel-item:last-child::after {\n",
       "  align-self: flex-start;\n",
       "  width: 50%;\n",
       "}\n",
       "\n",
       "#sk-container-id-1 div.sk-parallel-item:only-child::after {\n",
       "  width: 0;\n",
       "}\n",
       "\n",
       "/* Serial-specific style estimator block */\n",
       "\n",
       "#sk-container-id-1 div.sk-serial {\n",
       "  display: flex;\n",
       "  flex-direction: column;\n",
       "  align-items: center;\n",
       "  background-color: var(--sklearn-color-background);\n",
       "  padding-right: 1em;\n",
       "  padding-left: 1em;\n",
       "}\n",
       "\n",
       "\n",
       "/* Toggleable style: style used for estimator/Pipeline/ColumnTransformer box that is\n",
       "clickable and can be expanded/collapsed.\n",
       "- Pipeline and ColumnTransformer use this feature and define the default style\n",
       "- Estimators will overwrite some part of the style using the `sk-estimator` class\n",
       "*/\n",
       "\n",
       "/* Pipeline and ColumnTransformer style (default) */\n",
       "\n",
       "#sk-container-id-1 div.sk-toggleable {\n",
       "  /* Default theme specific background. It is overwritten whether we have a\n",
       "  specific estimator or a Pipeline/ColumnTransformer */\n",
       "  background-color: var(--sklearn-color-background);\n",
       "}\n",
       "\n",
       "/* Toggleable label */\n",
       "#sk-container-id-1 label.sk-toggleable__label {\n",
       "  cursor: pointer;\n",
       "  display: block;\n",
       "  width: 100%;\n",
       "  margin-bottom: 0;\n",
       "  padding: 0.5em;\n",
       "  box-sizing: border-box;\n",
       "  text-align: center;\n",
       "}\n",
       "\n",
       "#sk-container-id-1 label.sk-toggleable__label-arrow:before {\n",
       "  /* Arrow on the left of the label */\n",
       "  content: \"▸\";\n",
       "  float: left;\n",
       "  margin-right: 0.25em;\n",
       "  color: var(--sklearn-color-icon);\n",
       "}\n",
       "\n",
       "#sk-container-id-1 label.sk-toggleable__label-arrow:hover:before {\n",
       "  color: var(--sklearn-color-text);\n",
       "}\n",
       "\n",
       "/* Toggleable content - dropdown */\n",
       "\n",
       "#sk-container-id-1 div.sk-toggleable__content {\n",
       "  max-height: 0;\n",
       "  max-width: 0;\n",
       "  overflow: hidden;\n",
       "  text-align: left;\n",
       "  /* unfitted */\n",
       "  background-color: var(--sklearn-color-unfitted-level-0);\n",
       "}\n",
       "\n",
       "#sk-container-id-1 div.sk-toggleable__content.fitted {\n",
       "  /* fitted */\n",
       "  background-color: var(--sklearn-color-fitted-level-0);\n",
       "}\n",
       "\n",
       "#sk-container-id-1 div.sk-toggleable__content pre {\n",
       "  margin: 0.2em;\n",
       "  border-radius: 0.25em;\n",
       "  color: var(--sklearn-color-text);\n",
       "  /* unfitted */\n",
       "  background-color: var(--sklearn-color-unfitted-level-0);\n",
       "}\n",
       "\n",
       "#sk-container-id-1 div.sk-toggleable__content.fitted pre {\n",
       "  /* unfitted */\n",
       "  background-color: var(--sklearn-color-fitted-level-0);\n",
       "}\n",
       "\n",
       "#sk-container-id-1 input.sk-toggleable__control:checked~div.sk-toggleable__content {\n",
       "  /* Expand drop-down */\n",
       "  max-height: 200px;\n",
       "  max-width: 100%;\n",
       "  overflow: auto;\n",
       "}\n",
       "\n",
       "#sk-container-id-1 input.sk-toggleable__control:checked~label.sk-toggleable__label-arrow:before {\n",
       "  content: \"▾\";\n",
       "}\n",
       "\n",
       "/* Pipeline/ColumnTransformer-specific style */\n",
       "\n",
       "#sk-container-id-1 div.sk-label input.sk-toggleable__control:checked~label.sk-toggleable__label {\n",
       "  color: var(--sklearn-color-text);\n",
       "  background-color: var(--sklearn-color-unfitted-level-2);\n",
       "}\n",
       "\n",
       "#sk-container-id-1 div.sk-label.fitted input.sk-toggleable__control:checked~label.sk-toggleable__label {\n",
       "  background-color: var(--sklearn-color-fitted-level-2);\n",
       "}\n",
       "\n",
       "/* Estimator-specific style */\n",
       "\n",
       "/* Colorize estimator box */\n",
       "#sk-container-id-1 div.sk-estimator input.sk-toggleable__control:checked~label.sk-toggleable__label {\n",
       "  /* unfitted */\n",
       "  background-color: var(--sklearn-color-unfitted-level-2);\n",
       "}\n",
       "\n",
       "#sk-container-id-1 div.sk-estimator.fitted input.sk-toggleable__control:checked~label.sk-toggleable__label {\n",
       "  /* fitted */\n",
       "  background-color: var(--sklearn-color-fitted-level-2);\n",
       "}\n",
       "\n",
       "#sk-container-id-1 div.sk-label label.sk-toggleable__label,\n",
       "#sk-container-id-1 div.sk-label label {\n",
       "  /* The background is the default theme color */\n",
       "  color: var(--sklearn-color-text-on-default-background);\n",
       "}\n",
       "\n",
       "/* On hover, darken the color of the background */\n",
       "#sk-container-id-1 div.sk-label:hover label.sk-toggleable__label {\n",
       "  color: var(--sklearn-color-text);\n",
       "  background-color: var(--sklearn-color-unfitted-level-2);\n",
       "}\n",
       "\n",
       "/* Label box, darken color on hover, fitted */\n",
       "#sk-container-id-1 div.sk-label.fitted:hover label.sk-toggleable__label.fitted {\n",
       "  color: var(--sklearn-color-text);\n",
       "  background-color: var(--sklearn-color-fitted-level-2);\n",
       "}\n",
       "\n",
       "/* Estimator label */\n",
       "\n",
       "#sk-container-id-1 div.sk-label label {\n",
       "  font-family: monospace;\n",
       "  font-weight: bold;\n",
       "  display: inline-block;\n",
       "  line-height: 1.2em;\n",
       "}\n",
       "\n",
       "#sk-container-id-1 div.sk-label-container {\n",
       "  text-align: center;\n",
       "}\n",
       "\n",
       "/* Estimator-specific */\n",
       "#sk-container-id-1 div.sk-estimator {\n",
       "  font-family: monospace;\n",
       "  border: 1px dotted var(--sklearn-color-border-box);\n",
       "  border-radius: 0.25em;\n",
       "  box-sizing: border-box;\n",
       "  margin-bottom: 0.5em;\n",
       "  /* unfitted */\n",
       "  background-color: var(--sklearn-color-unfitted-level-0);\n",
       "}\n",
       "\n",
       "#sk-container-id-1 div.sk-estimator.fitted {\n",
       "  /* fitted */\n",
       "  background-color: var(--sklearn-color-fitted-level-0);\n",
       "}\n",
       "\n",
       "/* on hover */\n",
       "#sk-container-id-1 div.sk-estimator:hover {\n",
       "  /* unfitted */\n",
       "  background-color: var(--sklearn-color-unfitted-level-2);\n",
       "}\n",
       "\n",
       "#sk-container-id-1 div.sk-estimator.fitted:hover {\n",
       "  /* fitted */\n",
       "  background-color: var(--sklearn-color-fitted-level-2);\n",
       "}\n",
       "\n",
       "/* Specification for estimator info (e.g. \"i\" and \"?\") */\n",
       "\n",
       "/* Common style for \"i\" and \"?\" */\n",
       "\n",
       ".sk-estimator-doc-link,\n",
       "a:link.sk-estimator-doc-link,\n",
       "a:visited.sk-estimator-doc-link {\n",
       "  float: right;\n",
       "  font-size: smaller;\n",
       "  line-height: 1em;\n",
       "  font-family: monospace;\n",
       "  background-color: var(--sklearn-color-background);\n",
       "  border-radius: 1em;\n",
       "  height: 1em;\n",
       "  width: 1em;\n",
       "  text-decoration: none !important;\n",
       "  margin-left: 1ex;\n",
       "  /* unfitted */\n",
       "  border: var(--sklearn-color-unfitted-level-1) 1pt solid;\n",
       "  color: var(--sklearn-color-unfitted-level-1);\n",
       "}\n",
       "\n",
       ".sk-estimator-doc-link.fitted,\n",
       "a:link.sk-estimator-doc-link.fitted,\n",
       "a:visited.sk-estimator-doc-link.fitted {\n",
       "  /* fitted */\n",
       "  border: var(--sklearn-color-fitted-level-1) 1pt solid;\n",
       "  color: var(--sklearn-color-fitted-level-1);\n",
       "}\n",
       "\n",
       "/* On hover */\n",
       "div.sk-estimator:hover .sk-estimator-doc-link:hover,\n",
       ".sk-estimator-doc-link:hover,\n",
       "div.sk-label-container:hover .sk-estimator-doc-link:hover,\n",
       ".sk-estimator-doc-link:hover {\n",
       "  /* unfitted */\n",
       "  background-color: var(--sklearn-color-unfitted-level-3);\n",
       "  color: var(--sklearn-color-background);\n",
       "  text-decoration: none;\n",
       "}\n",
       "\n",
       "div.sk-estimator.fitted:hover .sk-estimator-doc-link.fitted:hover,\n",
       ".sk-estimator-doc-link.fitted:hover,\n",
       "div.sk-label-container:hover .sk-estimator-doc-link.fitted:hover,\n",
       ".sk-estimator-doc-link.fitted:hover {\n",
       "  /* fitted */\n",
       "  background-color: var(--sklearn-color-fitted-level-3);\n",
       "  color: var(--sklearn-color-background);\n",
       "  text-decoration: none;\n",
       "}\n",
       "\n",
       "/* Span, style for the box shown on hovering the info icon */\n",
       ".sk-estimator-doc-link span {\n",
       "  display: none;\n",
       "  z-index: 9999;\n",
       "  position: relative;\n",
       "  font-weight: normal;\n",
       "  right: .2ex;\n",
       "  padding: .5ex;\n",
       "  margin: .5ex;\n",
       "  width: min-content;\n",
       "  min-width: 20ex;\n",
       "  max-width: 50ex;\n",
       "  color: var(--sklearn-color-text);\n",
       "  box-shadow: 2pt 2pt 4pt #999;\n",
       "  /* unfitted */\n",
       "  background: var(--sklearn-color-unfitted-level-0);\n",
       "  border: .5pt solid var(--sklearn-color-unfitted-level-3);\n",
       "}\n",
       "\n",
       ".sk-estimator-doc-link.fitted span {\n",
       "  /* fitted */\n",
       "  background: var(--sklearn-color-fitted-level-0);\n",
       "  border: var(--sklearn-color-fitted-level-3);\n",
       "}\n",
       "\n",
       ".sk-estimator-doc-link:hover span {\n",
       "  display: block;\n",
       "}\n",
       "\n",
       "/* \"?\"-specific style due to the `<a>` HTML tag */\n",
       "\n",
       "#sk-container-id-1 a.estimator_doc_link {\n",
       "  float: right;\n",
       "  font-size: 1rem;\n",
       "  line-height: 1em;\n",
       "  font-family: monospace;\n",
       "  background-color: var(--sklearn-color-background);\n",
       "  border-radius: 1rem;\n",
       "  height: 1rem;\n",
       "  width: 1rem;\n",
       "  text-decoration: none;\n",
       "  /* unfitted */\n",
       "  color: var(--sklearn-color-unfitted-level-1);\n",
       "  border: var(--sklearn-color-unfitted-level-1) 1pt solid;\n",
       "}\n",
       "\n",
       "#sk-container-id-1 a.estimator_doc_link.fitted {\n",
       "  /* fitted */\n",
       "  border: var(--sklearn-color-fitted-level-1) 1pt solid;\n",
       "  color: var(--sklearn-color-fitted-level-1);\n",
       "}\n",
       "\n",
       "/* On hover */\n",
       "#sk-container-id-1 a.estimator_doc_link:hover {\n",
       "  /* unfitted */\n",
       "  background-color: var(--sklearn-color-unfitted-level-3);\n",
       "  color: var(--sklearn-color-background);\n",
       "  text-decoration: none;\n",
       "}\n",
       "\n",
       "#sk-container-id-1 a.estimator_doc_link.fitted:hover {\n",
       "  /* fitted */\n",
       "  background-color: var(--sklearn-color-fitted-level-3);\n",
       "}\n",
       "</style><div id=\"sk-container-id-1\" class=\"sk-top-container\"><div class=\"sk-text-repr-fallback\"><pre>RandomForestClassifier(min_samples_split=20, random_state=42)</pre><b>In a Jupyter environment, please rerun this cell to show the HTML representation or trust the notebook. <br />On GitHub, the HTML representation is unable to render, please try loading this page with nbviewer.org.</b></div><div class=\"sk-container\" hidden><div class=\"sk-item\"><div class=\"sk-estimator fitted sk-toggleable\"><input class=\"sk-toggleable__control sk-hidden--visually\" id=\"sk-estimator-id-1\" type=\"checkbox\" checked><label for=\"sk-estimator-id-1\" class=\"sk-toggleable__label fitted sk-toggleable__label-arrow fitted\">&nbsp;&nbsp;RandomForestClassifier<a class=\"sk-estimator-doc-link fitted\" rel=\"noreferrer\" target=\"_blank\" href=\"https://scikit-learn.org/1.4/modules/generated/sklearn.ensemble.RandomForestClassifier.html\">?<span>Documentation for RandomForestClassifier</span></a><span class=\"sk-estimator-doc-link fitted\">i<span>Fitted</span></span></label><div class=\"sk-toggleable__content fitted\"><pre>RandomForestClassifier(min_samples_split=20, random_state=42)</pre></div> </div></div></div></div>"
      ],
      "text/plain": [
       "RandomForestClassifier(min_samples_split=20, random_state=42)"
      ]
     },
     "execution_count": 39,
     "metadata": {},
     "output_type": "execute_result"
    }
   ],
   "source": [
    "from sklearn.ensemble import RandomForestClassifier\n",
    "\n",
    "X_train = X_imputed_df.drop('label', axis=1)\n",
    "y_train = X_imputed_df['label']\n",
    "\n",
    "# Inicializar el modelo de Bosques Aleatorios\n",
    "rf_model = RandomForestClassifier(n_estimators=100, random_state=42, min_samples_split=20)\n",
    "\n",
    "# Entrenar el modelo\n",
    "rf_model.fit(X_train, y_train)"
   ]
  },
  {
   "cell_type": "code",
   "execution_count": 40,
   "metadata": {},
   "outputs": [],
   "source": [
    "y_pred = rf_model.predict(X_imputed_test_df)\n",
    "\n",
    "df = pd.DataFrame({'ID': range(len(y_pred)), 'label': y_pred})\n",
    "df['label'] = df['label'].astype(int)\n",
    "df.to_csv('result.csv', index=False)"
   ]
  },
  {
   "cell_type": "markdown",
   "metadata": {},
   "source": [
    "El resultado obtenido es de 0,5213."
   ]
  },
  {
   "cell_type": "markdown",
   "metadata": {},
   "source": [
    "##### 02. XGBoost"
   ]
  },
  {
   "cell_type": "markdown",
   "metadata": {},
   "source": [
    "Antes de usar este algoritmo, vamos a poner las variables como 0 y 1 para el label, siendo 0 'sano' y 1 'enfermo'."
   ]
  },
  {
   "cell_type": "code",
   "execution_count": 41,
   "metadata": {},
   "outputs": [],
   "source": [
    "xgb_data_train = X_imputed_df.copy()\n",
    "xgb_data_test = X_imputed_test_df.copy()\n",
    "\n",
    "xgb_data_train['label'] = xgb_data_train['label'].apply(lambda x: 0 if x == 0 else 1)\n",
    "\n",
    "X_train = xgb_data_train.drop('label', axis=1)\n",
    "y_train = xgb_data_train['label']"
   ]
  },
  {
   "cell_type": "code",
   "execution_count": 42,
   "metadata": {},
   "outputs": [
    {
     "name": "stderr",
     "output_type": "stream",
     "text": [
      "/Users/emart/Documents/GitHub/mdata_dp3/venv/lib/python3.12/site-packages/xgboost/core.py:160: UserWarning: [20:02:59] WARNING: /Users/runner/work/xgboost/xgboost/src/learner.cc:742: \n",
      "Parameters: { \"n_estimators\" } are not used.\n",
      "\n",
      "  warnings.warn(smsg, UserWarning)\n"
     ]
    }
   ],
   "source": [
    "import xgboost as xgb\n",
    "\n",
    "# Preparar los conjuntos de datos en el formato DMatrix que optimiza XGBoost\n",
    "dtrain = xgb.DMatrix(X_train, label=y_train)\n",
    "dtest = xgb.DMatrix(X_imputed_test_df)\n",
    "\n",
    "# Configurar los parámetros del modelo\n",
    "# Estos son parámetros básicos, podrías necesitar ajustarlos o agregar más según tu caso específico\n",
    "params = {\n",
    "    'objective': 'binary:logistic',  # Cambia esto si tu variable objetivo es multiclase\n",
    "    'max_depth': 6,  # Profundidad máxima de cada árbol\n",
    "    'min_child_weight': 1,  # Mínimo peso (o número de observaciones) necesario para hacer una división adicional\n",
    "    'subsample': 0.8,  # Porcentaje de muestras usadas por árbol. Esto puede prevenir el overfitting.\n",
    "    'colsample_bytree': 0.8,  # Porcentaje de características usadas por árbol. Esto puede ser como el max_features en RandomForest.\n",
    "    'n_estimators': 100,  # Número de árboles. Similar al parámetro en RandomForest.\n",
    "    'learning_rate': 0.1,  # Tasa de aprendizaje\n",
    "    'eval_metric': 'logloss',  # Métrica de evaluación para clasificación binaria\n",
    "    'seed': 42  # Semilla para reproducibilidad\n",
    "}\n",
    "\n",
    "# Entrenar el modelo\n",
    "model_xgb = xgb.train(params, dtrain, num_boost_round=100)\n",
    "\n",
    "# Predecir en el conjunto de test\n",
    "y_pred_xgb = model_xgb.predict(dtest)\n",
    "y_pred_xgb = (y_pred_xgb > 0.5).astype(int)  # Convertir probabilidades a clases binarias\n",
    "\n",
    "# Crear DataFrame para la salida\n",
    "df_xgb = pd.DataFrame({'ID': range(len(y_pred_xgb)), 'label': y_pred_xgb})\n",
    "df_xgb['label'] = df_xgb['label'].astype(int)\n",
    "df_xgb.to_csv('result_xgb.csv', index=False)"
   ]
  },
  {
   "cell_type": "code",
   "execution_count": 43,
   "metadata": {},
   "outputs": [
    {
     "data": {
      "text/html": [
       "<div>\n",
       "<style scoped>\n",
       "    .dataframe tbody tr th:only-of-type {\n",
       "        vertical-align: middle;\n",
       "    }\n",
       "\n",
       "    .dataframe tbody tr th {\n",
       "        vertical-align: top;\n",
       "    }\n",
       "\n",
       "    .dataframe thead th {\n",
       "        text-align: right;\n",
       "    }\n",
       "</style>\n",
       "<table border=\"1\" class=\"dataframe\">\n",
       "  <thead>\n",
       "    <tr style=\"text-align: right;\">\n",
       "      <th></th>\n",
       "      <th>ID</th>\n",
       "      <th>label</th>\n",
       "    </tr>\n",
       "  </thead>\n",
       "  <tbody>\n",
       "    <tr>\n",
       "      <th>0</th>\n",
       "      <td>0</td>\n",
       "      <td>1</td>\n",
       "    </tr>\n",
       "    <tr>\n",
       "      <th>1</th>\n",
       "      <td>1</td>\n",
       "      <td>0</td>\n",
       "    </tr>\n",
       "    <tr>\n",
       "      <th>2</th>\n",
       "      <td>2</td>\n",
       "      <td>0</td>\n",
       "    </tr>\n",
       "    <tr>\n",
       "      <th>3</th>\n",
       "      <td>3</td>\n",
       "      <td>1</td>\n",
       "    </tr>\n",
       "    <tr>\n",
       "      <th>4</th>\n",
       "      <td>4</td>\n",
       "      <td>1</td>\n",
       "    </tr>\n",
       "  </tbody>\n",
       "</table>\n",
       "</div>"
      ],
      "text/plain": [
       "   ID  label\n",
       "0   0      1\n",
       "1   1      0\n",
       "2   2      0\n",
       "3   3      1\n",
       "4   4      1"
      ]
     },
     "execution_count": 43,
     "metadata": {},
     "output_type": "execute_result"
    }
   ],
   "source": [
    "df_xgb.head()"
   ]
  },
  {
   "cell_type": "code",
   "execution_count": 44,
   "metadata": {},
   "outputs": [
    {
     "data": {
      "text/html": [
       "<div>\n",
       "<style scoped>\n",
       "    .dataframe tbody tr th:only-of-type {\n",
       "        vertical-align: middle;\n",
       "    }\n",
       "\n",
       "    .dataframe tbody tr th {\n",
       "        vertical-align: top;\n",
       "    }\n",
       "\n",
       "    .dataframe thead th {\n",
       "        text-align: right;\n",
       "    }\n",
       "</style>\n",
       "<table border=\"1\" class=\"dataframe\">\n",
       "  <thead>\n",
       "    <tr style=\"text-align: right;\">\n",
       "      <th></th>\n",
       "      <th>ID</th>\n",
       "      <th>label</th>\n",
       "    </tr>\n",
       "  </thead>\n",
       "  <tbody>\n",
       "    <tr>\n",
       "      <th>0</th>\n",
       "      <td>0</td>\n",
       "      <td>3</td>\n",
       "    </tr>\n",
       "    <tr>\n",
       "      <th>1</th>\n",
       "      <td>1</td>\n",
       "      <td>0</td>\n",
       "    </tr>\n",
       "    <tr>\n",
       "      <th>2</th>\n",
       "      <td>2</td>\n",
       "      <td>0</td>\n",
       "    </tr>\n",
       "    <tr>\n",
       "      <th>3</th>\n",
       "      <td>3</td>\n",
       "      <td>1</td>\n",
       "    </tr>\n",
       "    <tr>\n",
       "      <th>4</th>\n",
       "      <td>4</td>\n",
       "      <td>0</td>\n",
       "    </tr>\n",
       "  </tbody>\n",
       "</table>\n",
       "</div>"
      ],
      "text/plain": [
       "   ID  label\n",
       "0   0      3\n",
       "1   1      0\n",
       "2   2      0\n",
       "3   3      1\n",
       "4   4      0"
      ]
     },
     "execution_count": 44,
     "metadata": {},
     "output_type": "execute_result"
    }
   ],
   "source": [
    "df.head()"
   ]
  },
  {
   "cell_type": "code",
   "execution_count": 45,
   "metadata": {},
   "outputs": [
    {
     "data": {
      "text/html": [
       "<div>\n",
       "<style scoped>\n",
       "    .dataframe tbody tr th:only-of-type {\n",
       "        vertical-align: middle;\n",
       "    }\n",
       "\n",
       "    .dataframe tbody tr th {\n",
       "        vertical-align: top;\n",
       "    }\n",
       "\n",
       "    .dataframe thead th {\n",
       "        text-align: right;\n",
       "    }\n",
       "</style>\n",
       "<table border=\"1\" class=\"dataframe\">\n",
       "  <thead>\n",
       "    <tr style=\"text-align: right;\">\n",
       "      <th></th>\n",
       "      <th>ID</th>\n",
       "      <th>label</th>\n",
       "    </tr>\n",
       "  </thead>\n",
       "  <tbody>\n",
       "    <tr>\n",
       "      <th>0</th>\n",
       "      <td>0</td>\n",
       "      <td>3</td>\n",
       "    </tr>\n",
       "    <tr>\n",
       "      <th>1</th>\n",
       "      <td>1</td>\n",
       "      <td>0</td>\n",
       "    </tr>\n",
       "    <tr>\n",
       "      <th>2</th>\n",
       "      <td>2</td>\n",
       "      <td>0</td>\n",
       "    </tr>\n",
       "    <tr>\n",
       "      <th>3</th>\n",
       "      <td>3</td>\n",
       "      <td>1</td>\n",
       "    </tr>\n",
       "    <tr>\n",
       "      <th>4</th>\n",
       "      <td>4</td>\n",
       "      <td>0</td>\n",
       "    </tr>\n",
       "    <tr>\n",
       "      <th>...</th>\n",
       "      <td>...</td>\n",
       "      <td>...</td>\n",
       "    </tr>\n",
       "    <tr>\n",
       "      <th>179</th>\n",
       "      <td>179</td>\n",
       "      <td>2</td>\n",
       "    </tr>\n",
       "    <tr>\n",
       "      <th>180</th>\n",
       "      <td>180</td>\n",
       "      <td>0</td>\n",
       "    </tr>\n",
       "    <tr>\n",
       "      <th>181</th>\n",
       "      <td>181</td>\n",
       "      <td>0</td>\n",
       "    </tr>\n",
       "    <tr>\n",
       "      <th>182</th>\n",
       "      <td>182</td>\n",
       "      <td>0</td>\n",
       "    </tr>\n",
       "    <tr>\n",
       "      <th>183</th>\n",
       "      <td>183</td>\n",
       "      <td>2</td>\n",
       "    </tr>\n",
       "  </tbody>\n",
       "</table>\n",
       "<p>184 rows × 2 columns</p>\n",
       "</div>"
      ],
      "text/plain": [
       "      ID  label\n",
       "0      0      3\n",
       "1      1      0\n",
       "2      2      0\n",
       "3      3      1\n",
       "4      4      0\n",
       "..   ...    ...\n",
       "179  179      2\n",
       "180  180      0\n",
       "181  181      0\n",
       "182  182      0\n",
       "183  183      2\n",
       "\n",
       "[184 rows x 2 columns]"
      ]
     },
     "execution_count": 45,
     "metadata": {},
     "output_type": "execute_result"
    }
   ],
   "source": [
    "import numpy as np\n",
    "\n",
    "df_final = df.copy()\n",
    "df_final['label'] = np.where(df_xgb['label'] == 0, df_xgb['label'], df['label'])\n",
    "\n",
    "df_final"
   ]
  },
  {
   "cell_type": "code",
   "execution_count": 46,
   "metadata": {},
   "outputs": [],
   "source": [
    "df_final.to_csv('result_final.csv', index=False)"
   ]
  }
 ],
 "metadata": {
  "kernelspec": {
   "display_name": "venv",
   "language": "python",
   "name": "python3"
  },
  "language_info": {
   "codemirror_mode": {
    "name": "ipython",
    "version": 3
   },
   "file_extension": ".py",
   "mimetype": "text/x-python",
   "name": "python",
   "nbconvert_exporter": "python",
   "pygments_lexer": "ipython3",
   "version": "3.12.2"
  }
 },
 "nbformat": 4,
 "nbformat_minor": 2
}
